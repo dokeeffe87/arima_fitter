{
 "cells": [
  {
   "cell_type": "markdown",
   "metadata": {},
   "source": [
    "## Try out using pyramid (python auto arima package) against facebook prophet\n",
    "* We'll use this data set: https://fred.stlouisfed.org/series/IPG2211A2N\n",
    "    * It's monthly industrial production of electic and gas utilities in the US between 1985 and 2018."
   ]
  },
  {
   "cell_type": "code",
   "execution_count": 1,
   "metadata": {},
   "outputs": [
    {
     "name": "stderr",
     "output_type": "stream",
     "text": [
      "/Users/danielokeeffe/miniconda2/envs/basic_ml/lib/python2.7/site-packages/pyramid/__init__.py:68: UserWarning:\n",
      "\n",
      "\n",
      "    The 'pyramid' package will be migrating to a new namespace beginning in \n",
      "    version 1.0.0: 'pmdarima'. This is due to a package name collision with the\n",
      "    Pyramid web framework. For more information, see Issue #34:\n",
      "    \n",
      "        https://github.com/tgsmith61591/pyramid/issues/34\n",
      "        \n",
      "    The package will subsequently be installable via the name 'pmdarima'; the\n",
      "    only functional change to the user will be the import name. All imports\n",
      "    from 'pyramid' will change to 'pmdarima'.\n",
      "    \n",
      "\n"
     ]
    }
   ],
   "source": [
    "# Import modules\n",
    "\n",
    "import os\n",
    "import sys\n",
    "import pandas as pd\n",
    "import numpy as np\n",
    "import matplotlib.pyplot as plt\n",
    "%matplotlib inline\n",
    "import seaborn as sns\n",
    "import plotly.plotly as ply\n",
    "import cufflinks\n",
    "from pyramid.arima import auto_arima\n",
    "from statsmodels.tsa.stattools import adfuller\n",
    "from statsmodels.tsa.seasonal import seasonal_decompose\n",
    "from sklearn.metrics import r2_score, mean_squared_error\n",
    "from fbprophet import Prophet"
   ]
  },
  {
   "cell_type": "code",
   "execution_count": 2,
   "metadata": {},
   "outputs": [],
   "source": [
    "# Set pandas preferences\n",
    "pd.options.display.max_columns=500\n",
    "pd.options.display.max_colwidth=1000"
   ]
  },
  {
   "cell_type": "code",
   "execution_count": 3,
   "metadata": {},
   "outputs": [],
   "source": [
    "plt.style.use('seaborn')"
   ]
  },
  {
   "cell_type": "markdown",
   "metadata": {},
   "source": [
    "## Useful functions"
   ]
  },
  {
   "cell_type": "code",
   "execution_count": 4,
   "metadata": {},
   "outputs": [],
   "source": [
    "def check_stationarity(df, confidence_level):\n",
    "    # This function tests the stationarity of the input time series up to a specified \n",
    "    # confidence level.\n",
    "    dftest = adfuller(df.iloc[:, 0].values, autolag='AIC')\n",
    "    dfoutput = pd.Series(dftest[0:4], index=['Test Statistic','p-value','#Lags Used','Number of Observations Used'])\n",
    "    for key,value in dftest[4].items():\n",
    "        dfoutput['Critical Value (%s)'%key] = value\n",
    "        \n",
    "    return dfoutput"
   ]
  },
  {
   "cell_type": "code",
   "execution_count": 5,
   "metadata": {},
   "outputs": [],
   "source": [
    "def test_stationarity(timeseries, window):\n",
    "    \n",
    "    #Determing rolling statistics    \n",
    "    rolmean = timeseries.rolling(window=window).mean()\n",
    "    rolstd = timeseries.rolling(window=window).std()\n",
    "\n",
    "    #Plot rolling statistics:\n",
    "    orig = plt.plot(timeseries, color='blue',label='Original')\n",
    "    mean = plt.plot(rolmean, color='red', label='Rolling Mean')\n",
    "    std = plt.plot(rolstd, color='black', label = 'Rolling Std')\n",
    "    plt.legend(loc='best')\n",
    "    plt.title('Rolling Mean & Standard Deviation')\n",
    "    plt.show(block=False)\n",
    "    \n",
    "    #Perform Dickey-Fuller test:\n",
    "    print('Results of Dickey-Fuller Test:')\n",
    "    dftest = adfuller(timeseries.iloc[:, 0].values, autolag='AIC')\n",
    "    dfoutput = pd.Series(dftest[0:4], index=['Test Statistic','p-value','#Lags Used','Number of Observations Used'])\n",
    "    for key,value in dftest[4].items():\n",
    "        dfoutput['Critical Value (%s)'%key] = value\n",
    "    print(dfoutput)"
   ]
  },
  {
   "cell_type": "code",
   "execution_count": 6,
   "metadata": {},
   "outputs": [],
   "source": [
    "df = pd.read_csv('IPG2211A2N.csv', index_col=0)"
   ]
  },
  {
   "cell_type": "code",
   "execution_count": 7,
   "metadata": {},
   "outputs": [
    {
     "data": {
      "text/html": [
       "<div>\n",
       "<style scoped>\n",
       "    .dataframe tbody tr th:only-of-type {\n",
       "        vertical-align: middle;\n",
       "    }\n",
       "\n",
       "    .dataframe tbody tr th {\n",
       "        vertical-align: top;\n",
       "    }\n",
       "\n",
       "    .dataframe thead th {\n",
       "        text-align: right;\n",
       "    }\n",
       "</style>\n",
       "<table border=\"1\" class=\"dataframe\">\n",
       "  <thead>\n",
       "    <tr style=\"text-align: right;\">\n",
       "      <th></th>\n",
       "      <th>IPG2211A2N</th>\n",
       "    </tr>\n",
       "    <tr>\n",
       "      <th>DATE</th>\n",
       "      <th></th>\n",
       "    </tr>\n",
       "  </thead>\n",
       "  <tbody>\n",
       "    <tr>\n",
       "      <th>1985-01-01</th>\n",
       "      <td>72.6803</td>\n",
       "    </tr>\n",
       "    <tr>\n",
       "      <th>1985-02-01</th>\n",
       "      <td>70.8479</td>\n",
       "    </tr>\n",
       "    <tr>\n",
       "      <th>1985-03-01</th>\n",
       "      <td>62.6166</td>\n",
       "    </tr>\n",
       "    <tr>\n",
       "      <th>1985-04-01</th>\n",
       "      <td>57.6106</td>\n",
       "    </tr>\n",
       "    <tr>\n",
       "      <th>1985-05-01</th>\n",
       "      <td>55.4467</td>\n",
       "    </tr>\n",
       "  </tbody>\n",
       "</table>\n",
       "</div>"
      ],
      "text/plain": [
       "            IPG2211A2N\n",
       "DATE                  \n",
       "1985-01-01     72.6803\n",
       "1985-02-01     70.8479\n",
       "1985-03-01     62.6166\n",
       "1985-04-01     57.6106\n",
       "1985-05-01     55.4467"
      ]
     },
     "execution_count": 7,
     "metadata": {},
     "output_type": "execute_result"
    }
   ],
   "source": [
    "df.head()"
   ]
  },
  {
   "cell_type": "code",
   "execution_count": 8,
   "metadata": {},
   "outputs": [
    {
     "data": {
      "text/plain": [
       "(407, 1)"
      ]
     },
     "execution_count": 8,
     "metadata": {},
     "output_type": "execute_result"
    }
   ],
   "source": [
    "df.shape"
   ]
  },
  {
   "cell_type": "code",
   "execution_count": 9,
   "metadata": {},
   "outputs": [
    {
     "data": {
      "text/plain": [
       "'2018-11-01'"
      ]
     },
     "execution_count": 9,
     "metadata": {},
     "output_type": "execute_result"
    }
   ],
   "source": [
    "df.index.max()"
   ]
  },
  {
   "cell_type": "code",
   "execution_count": 10,
   "metadata": {},
   "outputs": [
    {
     "data": {
      "text/plain": [
       "'1985-01-01'"
      ]
     },
     "execution_count": 10,
     "metadata": {},
     "output_type": "execute_result"
    }
   ],
   "source": [
    "df.index.min()"
   ]
  },
  {
   "cell_type": "code",
   "execution_count": 11,
   "metadata": {},
   "outputs": [],
   "source": [
    "# Convert these to datatime \n",
    "df.index = pd.to_datetime(df.index)"
   ]
  },
  {
   "cell_type": "code",
   "execution_count": 12,
   "metadata": {},
   "outputs": [
    {
     "data": {
      "text/plain": [
       "Timestamp('2018-11-01 00:00:00')"
      ]
     },
     "execution_count": 12,
     "metadata": {},
     "output_type": "execute_result"
    }
   ],
   "source": [
    "df.index.max()"
   ]
  },
  {
   "cell_type": "code",
   "execution_count": 13,
   "metadata": {},
   "outputs": [
    {
     "data": {
      "text/plain": [
       "Timestamp('1985-01-01 00:00:00')"
      ]
     },
     "execution_count": 13,
     "metadata": {},
     "output_type": "execute_result"
    }
   ],
   "source": [
    "df.index.min()"
   ]
  },
  {
   "cell_type": "code",
   "execution_count": 14,
   "metadata": {},
   "outputs": [],
   "source": [
    "# Rename the numerical column\n",
    "df.columns = ['Energy production']"
   ]
  },
  {
   "cell_type": "code",
   "execution_count": 15,
   "metadata": {},
   "outputs": [
    {
     "name": "stdout",
     "output_type": "stream",
     "text": [
      "High five! You successfully sent some data to your account on plotly. View your plot in your browser at https://plot.ly/~okeeffed090/0 or inside your plot.ly account where it is named 'Energy production: January 1985 to November 2018'\n"
     ]
    },
    {
     "data": {
      "text/html": [
       "<iframe id=\"igraph\" scrolling=\"no\" style=\"border:none;\" seamless=\"seamless\" src=\"https://plot.ly/~okeeffed090/0.embed\" height=\"525px\" width=\"100%\"></iframe>"
      ],
      "text/plain": [
       "<plotly.tools.PlotlyDisplay object>"
      ]
     },
     "execution_count": 15,
     "metadata": {},
     "output_type": "execute_result"
    }
   ],
   "source": [
    "# Let's plot this and see what we are dealing with.\n",
    "df.iplot(title='Energy production: January 1985 to November 2018')"
   ]
  },
  {
   "cell_type": "code",
   "execution_count": 20,
   "metadata": {},
   "outputs": [
    {
     "data": {
      "image/png": "[encoded data removed]",
      "text/plain": [
       "<Figure size 576x396 with 1 Axes>"
      ]
     },
     "metadata": {},
     "output_type": "display_data"
    },
    {
     "name": "stdout",
     "output_type": "stream",
     "text": [
      "Results of Dickey-Fuller Test:\n",
      "Test Statistic                  -2.307015\n",
      "p-value                          0.169716\n",
      "#Lags Used                      15.000000\n",
      "Number of Observations Used    391.000000\n",
      "Critical Value (5%)             -2.868960\n",
      "Critical Value (1%)             -3.447186\n",
      "Critical Value (10%)            -2.570723\n",
      "dtype: float64\n"
     ]
    }
   ],
   "source": [
    "# Is this a stationary time series? We'll check with the dickey-fuller test, as well as look for seasonality.\n",
    "test_stationarity(timeseries=df, window=12)"
   ]
  },
  {
   "cell_type": "code",
   "execution_count": 21,
   "metadata": {},
   "outputs": [],
   "source": [
    "# In this case, we can't accept the alternative hypothesis, so the time series is nonstationary.  (Recall, the null hypothesis here is that the time series can be represented by\n",
    "# a unit root, that is it's not stationary). The alternate hypothesis is that the time series cannot be represented by a unit root, so it's stationary."
   ]
  },
  {
   "cell_type": "code",
   "execution_count": 22,
   "metadata": {},
   "outputs": [],
   "source": [
    "# What about seasonality?\n",
    "seasonal_result = seasonal_decompose(df, model='multiplicative')"
   ]
  },
  {
   "cell_type": "code",
   "execution_count": 23,
   "metadata": {},
   "outputs": [
    {
     "data": {
      "image/png": "[encoded data removed]",
      "text/plain": [
       "<Figure size 576x396 with 4 Axes>"
      ]
     },
     "metadata": {},
     "output_type": "display_data"
    }
   ],
   "source": [
    "fig = seasonal_result.plot()"
   ]
  },
  {
   "cell_type": "markdown",
   "metadata": {},
   "source": [
    "So there is definitely an upward trend.  There also looks to be a seasonal component due to the periodic seasonal behaviour. We'll account for the seasonality by using a seasonal arima model. As for the trend, we could pre-difference the data and fit the sarima to the difference data, or we could let the auto arima decide on the value of d in the model. We'll try the latter. This will make it easier to get estimations on the original undifferenced data. Otherwise, we could estimate the number of differences required, do them, and then build an ARMA model and forecast on the differenced data.   "
   ]
  },
  {
   "cell_type": "code",
   "execution_count": 24,
   "metadata": {},
   "outputs": [
    {
     "data": {
      "image/png": "[encoded data removed]",
      "text/plain": [
       "<Figure size 576x396 with 1 Axes>"
      ]
     },
     "metadata": {},
     "output_type": "display_data"
    },
    {
     "name": "stdout",
     "output_type": "stream",
     "text": [
      "Results of Dickey-Fuller Test:\n",
      "Test Statistic                -1.002166e+01\n",
      "p-value                        1.672775e-17\n",
      "#Lags Used                     1.400000e+01\n",
      "Number of Observations Used    3.800000e+02\n",
      "Critical Value (5%)           -2.869176e+00\n",
      "Critical Value (1%)           -3.447676e+00\n",
      "Critical Value (10%)          -2.570838e+00\n",
      "dtype: float64\n"
     ]
    }
   ],
   "source": [
    "test_stationarity(seasonal_result.resid.dropna(), window=12)"
   ]
  },
  {
   "cell_type": "code",
   "execution_count": 26,
   "metadata": {},
   "outputs": [],
   "source": [
    "# Fit a seasonal arima model to the original data and we'll let auto_arima pick the right parameters.\n",
    "# We'll train on the first 20 years of data and use the rest for testing."
   ]
  },
  {
   "cell_type": "code",
   "execution_count": 27,
   "metadata": {},
   "outputs": [],
   "source": [
    "train_df = df.loc['1985-01-01': '2016-12-01']\n",
    "test_df = df.loc['2017-01-01':]"
   ]
  },
  {
   "cell_type": "code",
   "execution_count": 28,
   "metadata": {},
   "outputs": [
    {
     "name": "stderr",
     "output_type": "stream",
     "text": [
      "/Users/danielokeeffe/miniconda2/envs/basic_ml/lib/python2.7/site-packages/scipy/linalg/basic.py:1226: RuntimeWarning:\n",
      "\n",
      "internal gelsd driver lwork query error, required iwork dimension not returned. This is likely the result of LAPACK bug 0038, fixed in LAPACK 3.2.2 (released July 21, 2010). Falling back to 'gelss' driver.\n",
      "\n"
     ]
    },
    {
     "name": "stdout",
     "output_type": "stream",
     "text": [
      "Fit ARIMA: order=(1, 1, 1) seasonal_order=(0, 1, 1, 12); AIC=1694.776, BIC=1714.357, Fit time=3.019 seconds\n",
      "Fit ARIMA: order=(0, 1, 0) seasonal_order=(0, 1, 0, 12); AIC=1903.988, BIC=1911.821, Fit time=0.038 seconds\n",
      "Fit ARIMA: order=(1, 1, 0) seasonal_order=(1, 1, 0, 12); AIC=1845.096, BIC=1860.761, Fit time=0.719 seconds\n",
      "Fit ARIMA: order=(0, 1, 1) seasonal_order=(0, 1, 1, 12); AIC=1752.195, BIC=1767.860, Fit time=0.726 seconds\n",
      "Fit ARIMA: order=(1, 1, 1) seasonal_order=(1, 1, 1, 12); AIC=1695.399, BIC=1718.896, Fit time=5.173 seconds\n",
      "Fit ARIMA: order=(1, 1, 1) seasonal_order=(0, 1, 0, 12); AIC=1820.701, BIC=1836.366, Fit time=0.797 seconds\n",
      "Fit ARIMA: order=(1, 1, 1) seasonal_order=(0, 1, 2, 12); AIC=1694.519, BIC=1718.016, Fit time=6.786 seconds\n",
      "Fit ARIMA: order=(0, 1, 1) seasonal_order=(0, 1, 2, 12); AIC=1751.725, BIC=1771.306, Fit time=2.543 seconds\n",
      "Fit ARIMA: order=(2, 1, 1) seasonal_order=(0, 1, 2, 12); AIC=1694.642, BIC=1722.056, Fit time=8.091 seconds\n",
      "Fit ARIMA: order=(1, 1, 0) seasonal_order=(0, 1, 2, 12); AIC=1766.615, BIC=1786.196, Fit time=2.101 seconds\n",
      "Fit ARIMA: order=(1, 1, 2) seasonal_order=(0, 1, 2, 12); AIC=1694.022, BIC=1721.436, Fit time=10.319 seconds\n",
      "Fit ARIMA: order=(2, 1, 3) seasonal_order=(0, 1, 2, 12); AIC=1697.877, BIC=1733.123, Fit time=13.329 seconds\n",
      "Fit ARIMA: order=(1, 1, 2) seasonal_order=(1, 1, 2, 12); AIC=1691.854, BIC=1723.184, Fit time=8.498 seconds\n",
      "Fit ARIMA: order=(1, 1, 2) seasonal_order=(1, 1, 1, 12); AIC=1695.025, BIC=1722.438, Fit time=4.591 seconds\n",
      "Fit ARIMA: order=(1, 1, 2) seasonal_order=(0, 1, 1, 12); AIC=1694.606, BIC=1718.103, Fit time=3.336 seconds\n",
      "Fit ARIMA: order=(0, 1, 2) seasonal_order=(1, 1, 2, 12); AIC=1702.570, BIC=1729.983, Fit time=7.345 seconds\n",
      "Fit ARIMA: order=(2, 1, 2) seasonal_order=(1, 1, 2, 12); AIC=1694.824, BIC=1730.070, Fit time=12.564 seconds\n",
      "Fit ARIMA: order=(1, 1, 1) seasonal_order=(1, 1, 2, 12); AIC=1692.605, BIC=1720.019, Fit time=7.931 seconds\n",
      "Fit ARIMA: order=(1, 1, 3) seasonal_order=(1, 1, 2, 12); AIC=1693.742, BIC=1728.988, Fit time=14.496 seconds\n",
      "Fit ARIMA: order=(0, 1, 1) seasonal_order=(1, 1, 2, 12); AIC=1750.932, BIC=1774.429, Fit time=3.478 seconds\n",
      "Fit ARIMA: order=(2, 1, 3) seasonal_order=(1, 1, 2, 12); AIC=1695.481, BIC=1734.643, Fit time=14.443 seconds\n",
      "Fit ARIMA: order=(1, 1, 2) seasonal_order=(2, 1, 2, 12); AIC=1687.799, BIC=1723.045, Fit time=12.459 seconds\n",
      "Fit ARIMA: order=(1, 1, 2) seasonal_order=(2, 1, 1, 12); AIC=1686.267, BIC=1717.597, Fit time=9.941 seconds\n",
      "Fit ARIMA: order=(1, 1, 2) seasonal_order=(1, 1, 0, 12); AIC=1772.910, BIC=1796.407, Fit time=3.663 seconds\n",
      "Fit ARIMA: order=(0, 1, 2) seasonal_order=(2, 1, 1, 12); AIC=1696.141, BIC=1723.555, Fit time=4.964 seconds\n",
      "Fit ARIMA: order=(2, 1, 2) seasonal_order=(2, 1, 1, 12); AIC=1689.148, BIC=1724.394, Fit time=12.156 seconds\n",
      "Fit ARIMA: order=(1, 1, 1) seasonal_order=(2, 1, 1, 12); AIC=1686.438, BIC=1713.852, Fit time=7.156 seconds\n",
      "Fit ARIMA: order=(1, 1, 3) seasonal_order=(2, 1, 1, 12); AIC=1687.971, BIC=1723.217, Fit time=12.217 seconds\n",
      "Fit ARIMA: order=(0, 1, 1) seasonal_order=(2, 1, 1, 12); AIC=1742.540, BIC=1766.037, Fit time=2.526 seconds\n",
      "Fit ARIMA: order=(2, 1, 3) seasonal_order=(2, 1, 1, 12); AIC=1689.077, BIC=1728.239, Fit time=13.488 seconds\n",
      "Fit ARIMA: order=(1, 1, 2) seasonal_order=(2, 1, 0, 12); AIC=1719.328, BIC=1746.742, Fit time=9.006 seconds\n",
      "Total fit time: 217.914 seconds\n"
     ]
    }
   ],
   "source": [
    "# Define the model. I expect a seasonality of one year, so m=12 in the model to define the period for seasonal differencing.\n",
    "stepwise_model = auto_arima(train_df, \n",
    "                            start_p=1, \n",
    "                            start_q=1,\n",
    "                            max_p=3, \n",
    "                            max_q=3,\n",
    "                            max_d=2,\n",
    "                            m=12,\n",
    "                            start_P=0, \n",
    "                            seasonal=True,\n",
    "                            d=None, \n",
    "                            D=1, \n",
    "                            trace=True,\n",
    "                            error_action='ignore',  \n",
    "                            suppress_warnings=True, \n",
    "                            stepwise=True)"
   ]
  },
  {
   "cell_type": "code",
   "execution_count": 29,
   "metadata": {},
   "outputs": [
    {
     "data": {
      "text/plain": [
       "(23, 1)"
      ]
     },
     "execution_count": 29,
     "metadata": {},
     "output_type": "execute_result"
    }
   ],
   "source": [
    "test_df.shape"
   ]
  },
  {
   "cell_type": "code",
   "execution_count": 30,
   "metadata": {},
   "outputs": [
    {
     "data": {
      "text/plain": [
       "1686.2670996090328"
      ]
     },
     "execution_count": 30,
     "metadata": {},
     "output_type": "execute_result"
    }
   ],
   "source": [
    "# The AIC of the best model is:\n",
    "stepwise_model.aic()"
   ]
  },
  {
   "cell_type": "code",
   "execution_count": 31,
   "metadata": {},
   "outputs": [],
   "source": [
    "forecast_results = stepwise_model.predict(n_periods=23)"
   ]
  },
  {
   "cell_type": "code",
   "execution_count": 32,
   "metadata": {},
   "outputs": [],
   "source": [
    "forecast_df = pd.DataFrame(forecast_results, index=test_df.index, columns=['Predictions'])"
   ]
  },
  {
   "cell_type": "code",
   "execution_count": 33,
   "metadata": {},
   "outputs": [],
   "source": [
    "forecast_df = pd.concat([test_df, forecast_df], axis=1)"
   ]
  },
  {
   "cell_type": "code",
   "execution_count": 34,
   "metadata": {},
   "outputs": [
    {
     "data": {
      "text/html": [
       "<div>\n",
       "<style scoped>\n",
       "    .dataframe tbody tr th:only-of-type {\n",
       "        vertical-align: middle;\n",
       "    }\n",
       "\n",
       "    .dataframe tbody tr th {\n",
       "        vertical-align: top;\n",
       "    }\n",
       "\n",
       "    .dataframe thead th {\n",
       "        text-align: right;\n",
       "    }\n",
       "</style>\n",
       "<table border=\"1\" class=\"dataframe\">\n",
       "  <thead>\n",
       "    <tr style=\"text-align: right;\">\n",
       "      <th></th>\n",
       "      <th>Energy production</th>\n",
       "      <th>Predictions</th>\n",
       "    </tr>\n",
       "    <tr>\n",
       "      <th>DATE</th>\n",
       "      <th></th>\n",
       "      <th></th>\n",
       "    </tr>\n",
       "  </thead>\n",
       "  <tbody>\n",
       "    <tr>\n",
       "      <th>2017-01-01</th>\n",
       "      <td>115.1100</td>\n",
       "      <td>121.555936</td>\n",
       "    </tr>\n",
       "    <tr>\n",
       "      <th>2017-02-01</th>\n",
       "      <td>98.7900</td>\n",
       "      <td>109.592520</td>\n",
       "    </tr>\n",
       "    <tr>\n",
       "      <th>2017-03-01</th>\n",
       "      <td>100.3838</td>\n",
       "      <td>99.844850</td>\n",
       "    </tr>\n",
       "    <tr>\n",
       "      <th>2017-04-01</th>\n",
       "      <td>86.5178</td>\n",
       "      <td>89.775170</td>\n",
       "    </tr>\n",
       "    <tr>\n",
       "      <th>2017-05-01</th>\n",
       "      <td>90.2272</td>\n",
       "      <td>91.339952</td>\n",
       "    </tr>\n",
       "    <tr>\n",
       "      <th>2017-06-01</th>\n",
       "      <td>100.5536</td>\n",
       "      <td>102.664223</td>\n",
       "    </tr>\n",
       "    <tr>\n",
       "      <th>2017-07-01</th>\n",
       "      <td>111.2244</td>\n",
       "      <td>112.173972</td>\n",
       "    </tr>\n",
       "    <tr>\n",
       "      <th>2017-08-01</th>\n",
       "      <td>108.0286</td>\n",
       "      <td>111.898974</td>\n",
       "    </tr>\n",
       "    <tr>\n",
       "      <th>2017-09-01</th>\n",
       "      <td>97.2464</td>\n",
       "      <td>100.561314</td>\n",
       "    </tr>\n",
       "    <tr>\n",
       "      <th>2017-10-01</th>\n",
       "      <td>92.0177</td>\n",
       "      <td>91.437402</td>\n",
       "    </tr>\n",
       "    <tr>\n",
       "      <th>2017-11-01</th>\n",
       "      <td>96.4756</td>\n",
       "      <td>95.156879</td>\n",
       "    </tr>\n",
       "    <tr>\n",
       "      <th>2017-12-01</th>\n",
       "      <td>115.1165</td>\n",
       "      <td>111.005497</td>\n",
       "    </tr>\n",
       "    <tr>\n",
       "      <th>2018-01-01</th>\n",
       "      <td>127.6767</td>\n",
       "      <td>119.926186</td>\n",
       "    </tr>\n",
       "    <tr>\n",
       "      <th>2018-02-01</th>\n",
       "      <td>107.0056</td>\n",
       "      <td>110.764830</td>\n",
       "    </tr>\n",
       "    <tr>\n",
       "      <th>2018-03-01</th>\n",
       "      <td>103.3912</td>\n",
       "      <td>101.430176</td>\n",
       "    </tr>\n",
       "    <tr>\n",
       "      <th>2018-04-01</th>\n",
       "      <td>93.1969</td>\n",
       "      <td>89.696039</td>\n",
       "    </tr>\n",
       "    <tr>\n",
       "      <th>2018-05-01</th>\n",
       "      <td>93.3137</td>\n",
       "      <td>91.396401</td>\n",
       "    </tr>\n",
       "    <tr>\n",
       "      <th>2018-06-01</th>\n",
       "      <td>103.6679</td>\n",
       "      <td>102.401765</td>\n",
       "    </tr>\n",
       "    <tr>\n",
       "      <th>2018-07-01</th>\n",
       "      <td>113.7848</td>\n",
       "      <td>111.580966</td>\n",
       "    </tr>\n",
       "    <tr>\n",
       "      <th>2018-08-01</th>\n",
       "      <td>113.8654</td>\n",
       "      <td>110.783393</td>\n",
       "    </tr>\n",
       "    <tr>\n",
       "      <th>2018-09-01</th>\n",
       "      <td>101.8727</td>\n",
       "      <td>100.365061</td>\n",
       "    </tr>\n",
       "    <tr>\n",
       "      <th>2018-10-01</th>\n",
       "      <td>92.7862</td>\n",
       "      <td>91.373044</td>\n",
       "    </tr>\n",
       "    <tr>\n",
       "      <th>2018-11-01</th>\n",
       "      <td>100.9789</td>\n",
       "      <td>95.008511</td>\n",
       "    </tr>\n",
       "  </tbody>\n",
       "</table>\n",
       "</div>"
      ],
      "text/plain": [
       "            Energy production  Predictions\n",
       "DATE                                      \n",
       "2017-01-01           115.1100   121.555936\n",
       "2017-02-01            98.7900   109.592520\n",
       "2017-03-01           100.3838    99.844850\n",
       "2017-04-01            86.5178    89.775170\n",
       "2017-05-01            90.2272    91.339952\n",
       "2017-06-01           100.5536   102.664223\n",
       "2017-07-01           111.2244   112.173972\n",
       "2017-08-01           108.0286   111.898974\n",
       "2017-09-01            97.2464   100.561314\n",
       "2017-10-01            92.0177    91.437402\n",
       "2017-11-01            96.4756    95.156879\n",
       "2017-12-01           115.1165   111.005497\n",
       "2018-01-01           127.6767   119.926186\n",
       "2018-02-01           107.0056   110.764830\n",
       "2018-03-01           103.3912   101.430176\n",
       "2018-04-01            93.1969    89.696039\n",
       "2018-05-01            93.3137    91.396401\n",
       "2018-06-01           103.6679   102.401765\n",
       "2018-07-01           113.7848   111.580966\n",
       "2018-08-01           113.8654   110.783393\n",
       "2018-09-01           101.8727   100.365061\n",
       "2018-10-01            92.7862    91.373044\n",
       "2018-11-01           100.9789    95.008511"
      ]
     },
     "execution_count": 34,
     "metadata": {},
     "output_type": "execute_result"
    }
   ],
   "source": [
    "forecast_df"
   ]
  },
  {
   "cell_type": "code",
   "execution_count": 35,
   "metadata": {},
   "outputs": [],
   "source": [
    "# How did we do?\n",
    "r2_auto_arima = r2_score(y_pred=forecast_df['Predictions'].values, y_true=forecast_df['Energy production'])\n",
    "mse_auto_arima = mean_squared_error(y_pred=forecast_df['Predictions'].values, y_true=forecast_df['Energy production'])\n",
    "rmse_auto_arima = np.sqrt(mse_auto_arima)"
   ]
  },
  {
   "cell_type": "code",
   "execution_count": 36,
   "metadata": {},
   "outputs": [
    {
     "data": {
      "text/plain": [
       "0.8320420523247696"
      ]
     },
     "execution_count": 36,
     "metadata": {},
     "output_type": "execute_result"
    }
   ],
   "source": [
    "r2_auto_arima"
   ]
  },
  {
   "cell_type": "code",
   "execution_count": 37,
   "metadata": {},
   "outputs": [
    {
     "data": {
      "text/plain": [
       "16.11038622815135"
      ]
     },
     "execution_count": 37,
     "metadata": {},
     "output_type": "execute_result"
    }
   ],
   "source": [
    "mse_auto_arima"
   ]
  },
  {
   "cell_type": "code",
   "execution_count": 38,
   "metadata": {},
   "outputs": [
    {
     "data": {
      "text/plain": [
       "4.01377456120188"
      ]
     },
     "execution_count": 38,
     "metadata": {},
     "output_type": "execute_result"
    }
   ],
   "source": [
    "rmse_auto_arima"
   ]
  },
  {
   "cell_type": "code",
   "execution_count": 39,
   "metadata": {},
   "outputs": [
    {
     "data": {
      "text/html": [
       "<iframe id=\"igraph\" scrolling=\"no\" style=\"border:none;\" seamless=\"seamless\" src=\"https://plot.ly/~okeeffed090/14.embed\" height=\"525px\" width=\"100%\"></iframe>"
      ],
      "text/plain": [
       "<plotly.tools.PlotlyDisplay object>"
      ]
     },
     "execution_count": 39,
     "metadata": {},
     "output_type": "execute_result"
    }
   ],
   "source": [
    "# Not horrible actually.\n",
    "forecast_df.iplot()"
   ]
  },
  {
   "cell_type": "code",
   "execution_count": 40,
   "metadata": {},
   "outputs": [],
   "source": [
    "forecast_plus_original_df = pd.concat([df, pd.DataFrame(forecast_results, index=test_df.index, columns=['Predictions'])], axis=1)"
   ]
  },
  {
   "cell_type": "code",
   "execution_count": 41,
   "metadata": {},
   "outputs": [
    {
     "data": {
      "text/html": [
       "<iframe id=\"igraph\" scrolling=\"no\" style=\"border:none;\" seamless=\"seamless\" src=\"https://plot.ly/~okeeffed090/16.embed\" height=\"525px\" width=\"100%\"></iframe>"
      ],
      "text/plain": [
       "<plotly.tools.PlotlyDisplay object>"
      ]
     },
     "execution_count": 41,
     "metadata": {},
     "output_type": "execute_result"
    }
   ],
   "source": [
    "forecast_plus_original_df.iplot()"
   ]
  },
  {
   "cell_type": "markdown",
   "metadata": {},
   "source": [
    "## Compare to fbprophet"
   ]
  },
  {
   "cell_type": "code",
   "execution_count": 42,
   "metadata": {},
   "outputs": [],
   "source": [
    "prophet_model = Prophet(seasonality_mode='multiplicative')"
   ]
  },
  {
   "cell_type": "code",
   "execution_count": 43,
   "metadata": {},
   "outputs": [],
   "source": [
    "df_prophet = df.copy()"
   ]
  },
  {
   "cell_type": "code",
   "execution_count": 44,
   "metadata": {},
   "outputs": [],
   "source": [
    "df_prophet.index.name = 'ds'"
   ]
  },
  {
   "cell_type": "code",
   "execution_count": 45,
   "metadata": {},
   "outputs": [],
   "source": [
    "df_prophet.columns = ['y']"
   ]
  },
  {
   "cell_type": "code",
   "execution_count": 46,
   "metadata": {},
   "outputs": [],
   "source": [
    "df_prophet.reset_index(inplace=True)"
   ]
  },
  {
   "cell_type": "code",
   "execution_count": 47,
   "metadata": {},
   "outputs": [
    {
     "data": {
      "text/html": [
       "<div>\n",
       "<style scoped>\n",
       "    .dataframe tbody tr th:only-of-type {\n",
       "        vertical-align: middle;\n",
       "    }\n",
       "\n",
       "    .dataframe tbody tr th {\n",
       "        vertical-align: top;\n",
       "    }\n",
       "\n",
       "    .dataframe thead th {\n",
       "        text-align: right;\n",
       "    }\n",
       "</style>\n",
       "<table border=\"1\" class=\"dataframe\">\n",
       "  <thead>\n",
       "    <tr style=\"text-align: right;\">\n",
       "      <th></th>\n",
       "      <th>ds</th>\n",
       "      <th>y</th>\n",
       "    </tr>\n",
       "  </thead>\n",
       "  <tbody>\n",
       "    <tr>\n",
       "      <th>0</th>\n",
       "      <td>1985-01-01</td>\n",
       "      <td>72.6803</td>\n",
       "    </tr>\n",
       "    <tr>\n",
       "      <th>1</th>\n",
       "      <td>1985-02-01</td>\n",
       "      <td>70.8479</td>\n",
       "    </tr>\n",
       "    <tr>\n",
       "      <th>2</th>\n",
       "      <td>1985-03-01</td>\n",
       "      <td>62.6166</td>\n",
       "    </tr>\n",
       "    <tr>\n",
       "      <th>3</th>\n",
       "      <td>1985-04-01</td>\n",
       "      <td>57.6106</td>\n",
       "    </tr>\n",
       "    <tr>\n",
       "      <th>4</th>\n",
       "      <td>1985-05-01</td>\n",
       "      <td>55.4467</td>\n",
       "    </tr>\n",
       "  </tbody>\n",
       "</table>\n",
       "</div>"
      ],
      "text/plain": [
       "          ds        y\n",
       "0 1985-01-01  72.6803\n",
       "1 1985-02-01  70.8479\n",
       "2 1985-03-01  62.6166\n",
       "3 1985-04-01  57.6106\n",
       "4 1985-05-01  55.4467"
      ]
     },
     "execution_count": 47,
     "metadata": {},
     "output_type": "execute_result"
    }
   ],
   "source": [
    "df_prophet.head()"
   ]
  },
  {
   "cell_type": "code",
   "execution_count": 48,
   "metadata": {},
   "outputs": [],
   "source": [
    "prophet_train_df = df_prophet.loc[(df_prophet['ds'] <= '2016-12-01')]\n",
    "prophet_test_df = df_prophet.loc[(df_prophet['ds'] >= '2017-01-01')]"
   ]
  },
  {
   "cell_type": "code",
   "execution_count": 49,
   "metadata": {},
   "outputs": [
    {
     "name": "stderr",
     "output_type": "stream",
     "text": [
      "INFO:fbprophet.forecaster:Disabling weekly seasonality. Run prophet with weekly_seasonality=True to override this.\n",
      "INFO:fbprophet.forecaster:Disabling daily seasonality. Run prophet with daily_seasonality=True to override this.\n",
      "/Users/danielokeeffe/miniconda2/envs/basic_ml/lib/python2.7/site-packages/pystan/misc.py:399: FutureWarning:\n",
      "\n",
      "Conversion of the second argument of issubdtype from `float` to `np.floating` is deprecated. In future, it will be treated as `np.float64 == np.dtype(float).type`.\n",
      "\n"
     ]
    },
    {
     "data": {
      "text/plain": [
       "<fbprophet.forecaster.Prophet at 0x142301310>"
      ]
     },
     "execution_count": 49,
     "metadata": {},
     "output_type": "execute_result"
    }
   ],
   "source": [
    "prophet_model.fit(prophet_train_df)"
   ]
  },
  {
   "cell_type": "code",
   "execution_count": 50,
   "metadata": {},
   "outputs": [],
   "source": [
    "prophet_future_df = prophet_model.make_future_dataframe(periods=23, freq='M')"
   ]
  },
  {
   "cell_type": "code",
   "execution_count": 51,
   "metadata": {},
   "outputs": [],
   "source": [
    "prophet_forecast_df = prophet_model.predict(prophet_future_df)"
   ]
  },
  {
   "cell_type": "code",
   "execution_count": 52,
   "metadata": {},
   "outputs": [
    {
     "data": {
      "text/html": [
       "<div>\n",
       "<style scoped>\n",
       "    .dataframe tbody tr th:only-of-type {\n",
       "        vertical-align: middle;\n",
       "    }\n",
       "\n",
       "    .dataframe tbody tr th {\n",
       "        vertical-align: top;\n",
       "    }\n",
       "\n",
       "    .dataframe thead th {\n",
       "        text-align: right;\n",
       "    }\n",
       "</style>\n",
       "<table border=\"1\" class=\"dataframe\">\n",
       "  <thead>\n",
       "    <tr style=\"text-align: right;\">\n",
       "      <th></th>\n",
       "      <th>ds</th>\n",
       "      <th>trend</th>\n",
       "      <th>trend_lower</th>\n",
       "      <th>trend_upper</th>\n",
       "      <th>yhat_lower</th>\n",
       "      <th>yhat_upper</th>\n",
       "      <th>additive_terms</th>\n",
       "      <th>additive_terms_lower</th>\n",
       "      <th>additive_terms_upper</th>\n",
       "      <th>multiplicative_terms</th>\n",
       "      <th>multiplicative_terms_lower</th>\n",
       "      <th>multiplicative_terms_upper</th>\n",
       "      <th>yearly</th>\n",
       "      <th>yearly_lower</th>\n",
       "      <th>yearly_upper</th>\n",
       "      <th>yhat</th>\n",
       "    </tr>\n",
       "  </thead>\n",
       "  <tbody>\n",
       "    <tr>\n",
       "      <th>0</th>\n",
       "      <td>1985-01-01</td>\n",
       "      <td>61.283027</td>\n",
       "      <td>61.283027</td>\n",
       "      <td>61.283027</td>\n",
       "      <td>66.987371</td>\n",
       "      <td>73.098253</td>\n",
       "      <td>0.0</td>\n",
       "      <td>0.0</td>\n",
       "      <td>0.0</td>\n",
       "      <td>0.145970</td>\n",
       "      <td>0.145970</td>\n",
       "      <td>0.145970</td>\n",
       "      <td>0.145970</td>\n",
       "      <td>0.145970</td>\n",
       "      <td>0.145970</td>\n",
       "      <td>70.228517</td>\n",
       "    </tr>\n",
       "    <tr>\n",
       "      <th>1</th>\n",
       "      <td>1985-02-01</td>\n",
       "      <td>61.469098</td>\n",
       "      <td>61.469098</td>\n",
       "      <td>61.469098</td>\n",
       "      <td>62.207275</td>\n",
       "      <td>68.184266</td>\n",
       "      <td>0.0</td>\n",
       "      <td>0.0</td>\n",
       "      <td>0.0</td>\n",
       "      <td>0.059781</td>\n",
       "      <td>0.059781</td>\n",
       "      <td>0.059781</td>\n",
       "      <td>0.059781</td>\n",
       "      <td>0.059781</td>\n",
       "      <td>0.059781</td>\n",
       "      <td>65.143796</td>\n",
       "    </tr>\n",
       "    <tr>\n",
       "      <th>2</th>\n",
       "      <td>1985-03-01</td>\n",
       "      <td>61.637162</td>\n",
       "      <td>61.637162</td>\n",
       "      <td>61.637162</td>\n",
       "      <td>57.749194</td>\n",
       "      <td>63.846133</td>\n",
       "      <td>0.0</td>\n",
       "      <td>0.0</td>\n",
       "      <td>0.0</td>\n",
       "      <td>-0.011520</td>\n",
       "      <td>-0.011520</td>\n",
       "      <td>-0.011520</td>\n",
       "      <td>-0.011520</td>\n",
       "      <td>-0.011520</td>\n",
       "      <td>-0.011520</td>\n",
       "      <td>60.927091</td>\n",
       "    </tr>\n",
       "    <tr>\n",
       "      <th>3</th>\n",
       "      <td>1985-04-01</td>\n",
       "      <td>61.823232</td>\n",
       "      <td>61.823232</td>\n",
       "      <td>61.823232</td>\n",
       "      <td>52.161761</td>\n",
       "      <td>58.201611</td>\n",
       "      <td>0.0</td>\n",
       "      <td>0.0</td>\n",
       "      <td>0.0</td>\n",
       "      <td>-0.107483</td>\n",
       "      <td>-0.107483</td>\n",
       "      <td>-0.107483</td>\n",
       "      <td>-0.107483</td>\n",
       "      <td>-0.107483</td>\n",
       "      <td>-0.107483</td>\n",
       "      <td>55.178288</td>\n",
       "    </tr>\n",
       "    <tr>\n",
       "      <th>4</th>\n",
       "      <td>1985-05-01</td>\n",
       "      <td>62.003300</td>\n",
       "      <td>62.003300</td>\n",
       "      <td>62.003300</td>\n",
       "      <td>52.534249</td>\n",
       "      <td>58.645010</td>\n",
       "      <td>0.0</td>\n",
       "      <td>0.0</td>\n",
       "      <td>0.0</td>\n",
       "      <td>-0.103534</td>\n",
       "      <td>-0.103534</td>\n",
       "      <td>-0.103534</td>\n",
       "      <td>-0.103534</td>\n",
       "      <td>-0.103534</td>\n",
       "      <td>-0.103534</td>\n",
       "      <td>55.583866</td>\n",
       "    </tr>\n",
       "  </tbody>\n",
       "</table>\n",
       "</div>"
      ],
      "text/plain": [
       "          ds      trend  trend_lower  trend_upper  yhat_lower  yhat_upper  \\\n",
       "0 1985-01-01  61.283027    61.283027    61.283027   66.987371   73.098253   \n",
       "1 1985-02-01  61.469098    61.469098    61.469098   62.207275   68.184266   \n",
       "2 1985-03-01  61.637162    61.637162    61.637162   57.749194   63.846133   \n",
       "3 1985-04-01  61.823232    61.823232    61.823232   52.161761   58.201611   \n",
       "4 1985-05-01  62.003300    62.003300    62.003300   52.534249   58.645010   \n",
       "\n",
       "   additive_terms  additive_terms_lower  additive_terms_upper  \\\n",
       "0             0.0                   0.0                   0.0   \n",
       "1             0.0                   0.0                   0.0   \n",
       "2             0.0                   0.0                   0.0   \n",
       "3             0.0                   0.0                   0.0   \n",
       "4             0.0                   0.0                   0.0   \n",
       "\n",
       "   multiplicative_terms  multiplicative_terms_lower  \\\n",
       "0              0.145970                    0.145970   \n",
       "1              0.059781                    0.059781   \n",
       "2             -0.011520                   -0.011520   \n",
       "3             -0.107483                   -0.107483   \n",
       "4             -0.103534                   -0.103534   \n",
       "\n",
       "   multiplicative_terms_upper    yearly  yearly_lower  yearly_upper       yhat  \n",
       "0                    0.145970  0.145970      0.145970      0.145970  70.228517  \n",
       "1                    0.059781  0.059781      0.059781      0.059781  65.143796  \n",
       "2                   -0.011520 -0.011520     -0.011520     -0.011520  60.927091  \n",
       "3                   -0.107483 -0.107483     -0.107483     -0.107483  55.178288  \n",
       "4                   -0.103534 -0.103534     -0.103534     -0.103534  55.583866  "
      ]
     },
     "execution_count": 52,
     "metadata": {},
     "output_type": "execute_result"
    }
   ],
   "source": [
    "prophet_forecast_df.head()"
   ]
  },
  {
   "cell_type": "code",
   "execution_count": 53,
   "metadata": {},
   "outputs": [
    {
     "data": {
      "image/png": "[encoded data removed]",
      "text/plain": [
       "<Figure size 720x432 with 1 Axes>"
      ]
     },
     "metadata": {},
     "output_type": "display_data"
    }
   ],
   "source": [
    "fig1 = prophet_model.plot(prophet_forecast_df)"
   ]
  },
  {
   "cell_type": "code",
   "execution_count": 54,
   "metadata": {},
   "outputs": [
    {
     "data": {
      "text/html": [
       "<div>\n",
       "<style scoped>\n",
       "    .dataframe tbody tr th:only-of-type {\n",
       "        vertical-align: middle;\n",
       "    }\n",
       "\n",
       "    .dataframe tbody tr th {\n",
       "        vertical-align: top;\n",
       "    }\n",
       "\n",
       "    .dataframe thead th {\n",
       "        text-align: right;\n",
       "    }\n",
       "</style>\n",
       "<table border=\"1\" class=\"dataframe\">\n",
       "  <thead>\n",
       "    <tr style=\"text-align: right;\">\n",
       "      <th></th>\n",
       "      <th>ds</th>\n",
       "      <th>trend</th>\n",
       "      <th>trend_lower</th>\n",
       "      <th>trend_upper</th>\n",
       "      <th>yhat_lower</th>\n",
       "      <th>yhat_upper</th>\n",
       "      <th>additive_terms</th>\n",
       "      <th>additive_terms_lower</th>\n",
       "      <th>additive_terms_upper</th>\n",
       "      <th>multiplicative_terms</th>\n",
       "      <th>multiplicative_terms_lower</th>\n",
       "      <th>multiplicative_terms_upper</th>\n",
       "      <th>yearly</th>\n",
       "      <th>yearly_lower</th>\n",
       "      <th>yearly_upper</th>\n",
       "      <th>yhat</th>\n",
       "    </tr>\n",
       "  </thead>\n",
       "  <tbody>\n",
       "    <tr>\n",
       "      <th>377</th>\n",
       "      <td>2016-06-01</td>\n",
       "      <td>103.014398</td>\n",
       "      <td>103.014398</td>\n",
       "      <td>103.014398</td>\n",
       "      <td>99.061904</td>\n",
       "      <td>105.294632</td>\n",
       "      <td>0.0</td>\n",
       "      <td>0.0</td>\n",
       "      <td>0.0</td>\n",
       "      <td>-0.009100</td>\n",
       "      <td>-0.009100</td>\n",
       "      <td>-0.009100</td>\n",
       "      <td>-0.009100</td>\n",
       "      <td>-0.009100</td>\n",
       "      <td>-0.009100</td>\n",
       "      <td>102.076937</td>\n",
       "    </tr>\n",
       "    <tr>\n",
       "      <th>378</th>\n",
       "      <td>2016-07-01</td>\n",
       "      <td>103.031732</td>\n",
       "      <td>103.031732</td>\n",
       "      <td>103.031732</td>\n",
       "      <td>106.889213</td>\n",
       "      <td>113.339621</td>\n",
       "      <td>0.0</td>\n",
       "      <td>0.0</td>\n",
       "      <td>0.0</td>\n",
       "      <td>0.069346</td>\n",
       "      <td>0.069346</td>\n",
       "      <td>0.069346</td>\n",
       "      <td>0.069346</td>\n",
       "      <td>0.069346</td>\n",
       "      <td>0.069346</td>\n",
       "      <td>110.176610</td>\n",
       "    </tr>\n",
       "    <tr>\n",
       "      <th>379</th>\n",
       "      <td>2016-08-01</td>\n",
       "      <td>103.049643</td>\n",
       "      <td>103.049643</td>\n",
       "      <td>103.049643</td>\n",
       "      <td>106.652099</td>\n",
       "      <td>112.830754</td>\n",
       "      <td>0.0</td>\n",
       "      <td>0.0</td>\n",
       "      <td>0.0</td>\n",
       "      <td>0.065477</td>\n",
       "      <td>0.065477</td>\n",
       "      <td>0.065477</td>\n",
       "      <td>0.065477</td>\n",
       "      <td>0.065477</td>\n",
       "      <td>0.065477</td>\n",
       "      <td>109.797004</td>\n",
       "    </tr>\n",
       "    <tr>\n",
       "      <th>380</th>\n",
       "      <td>2016-09-01</td>\n",
       "      <td>103.067555</td>\n",
       "      <td>103.067555</td>\n",
       "      <td>103.067555</td>\n",
       "      <td>96.667761</td>\n",
       "      <td>102.867547</td>\n",
       "      <td>0.0</td>\n",
       "      <td>0.0</td>\n",
       "      <td>0.0</td>\n",
       "      <td>-0.031381</td>\n",
       "      <td>-0.031381</td>\n",
       "      <td>-0.031381</td>\n",
       "      <td>-0.031381</td>\n",
       "      <td>-0.031381</td>\n",
       "      <td>-0.031381</td>\n",
       "      <td>99.833173</td>\n",
       "    </tr>\n",
       "    <tr>\n",
       "      <th>381</th>\n",
       "      <td>2016-10-01</td>\n",
       "      <td>103.084889</td>\n",
       "      <td>103.084889</td>\n",
       "      <td>103.084889</td>\n",
       "      <td>89.360802</td>\n",
       "      <td>95.246500</td>\n",
       "      <td>0.0</td>\n",
       "      <td>0.0</td>\n",
       "      <td>0.0</td>\n",
       "      <td>-0.103356</td>\n",
       "      <td>-0.103356</td>\n",
       "      <td>-0.103356</td>\n",
       "      <td>-0.103356</td>\n",
       "      <td>-0.103356</td>\n",
       "      <td>-0.103356</td>\n",
       "      <td>92.430476</td>\n",
       "    </tr>\n",
       "    <tr>\n",
       "      <th>382</th>\n",
       "      <td>2016-11-01</td>\n",
       "      <td>103.102800</td>\n",
       "      <td>103.102800</td>\n",
       "      <td>103.102800</td>\n",
       "      <td>92.690849</td>\n",
       "      <td>98.831475</td>\n",
       "      <td>0.0</td>\n",
       "      <td>0.0</td>\n",
       "      <td>0.0</td>\n",
       "      <td>-0.071402</td>\n",
       "      <td>-0.071402</td>\n",
       "      <td>-0.071402</td>\n",
       "      <td>-0.071402</td>\n",
       "      <td>-0.071402</td>\n",
       "      <td>-0.071402</td>\n",
       "      <td>95.741023</td>\n",
       "    </tr>\n",
       "    <tr>\n",
       "      <th>383</th>\n",
       "      <td>2016-12-01</td>\n",
       "      <td>103.120134</td>\n",
       "      <td>103.120134</td>\n",
       "      <td>103.120134</td>\n",
       "      <td>108.475467</td>\n",
       "      <td>114.716931</td>\n",
       "      <td>0.0</td>\n",
       "      <td>0.0</td>\n",
       "      <td>0.0</td>\n",
       "      <td>0.081124</td>\n",
       "      <td>0.081124</td>\n",
       "      <td>0.081124</td>\n",
       "      <td>0.081124</td>\n",
       "      <td>0.081124</td>\n",
       "      <td>0.081124</td>\n",
       "      <td>111.485689</td>\n",
       "    </tr>\n",
       "    <tr>\n",
       "      <th>384</th>\n",
       "      <td>2016-12-31</td>\n",
       "      <td>103.137468</td>\n",
       "      <td>103.137468</td>\n",
       "      <td>103.137468</td>\n",
       "      <td>115.569313</td>\n",
       "      <td>121.741147</td>\n",
       "      <td>0.0</td>\n",
       "      <td>0.0</td>\n",
       "      <td>0.0</td>\n",
       "      <td>0.150014</td>\n",
       "      <td>0.150014</td>\n",
       "      <td>0.150014</td>\n",
       "      <td>0.150014</td>\n",
       "      <td>0.150014</td>\n",
       "      <td>0.150014</td>\n",
       "      <td>118.609518</td>\n",
       "    </tr>\n",
       "    <tr>\n",
       "      <th>385</th>\n",
       "      <td>2017-01-31</td>\n",
       "      <td>103.155379</td>\n",
       "      <td>103.155379</td>\n",
       "      <td>103.155379</td>\n",
       "      <td>107.921987</td>\n",
       "      <td>114.187105</td>\n",
       "      <td>0.0</td>\n",
       "      <td>0.0</td>\n",
       "      <td>0.0</td>\n",
       "      <td>0.076499</td>\n",
       "      <td>0.076499</td>\n",
       "      <td>0.076499</td>\n",
       "      <td>0.076499</td>\n",
       "      <td>0.076499</td>\n",
       "      <td>0.076499</td>\n",
       "      <td>111.046624</td>\n",
       "    </tr>\n",
       "    <tr>\n",
       "      <th>386</th>\n",
       "      <td>2017-02-28</td>\n",
       "      <td>103.171558</td>\n",
       "      <td>103.171558</td>\n",
       "      <td>103.171558</td>\n",
       "      <td>101.063415</td>\n",
       "      <td>107.393740</td>\n",
       "      <td>0.0</td>\n",
       "      <td>0.0</td>\n",
       "      <td>0.0</td>\n",
       "      <td>0.010428</td>\n",
       "      <td>0.010428</td>\n",
       "      <td>0.010428</td>\n",
       "      <td>0.010428</td>\n",
       "      <td>0.010428</td>\n",
       "      <td>0.010428</td>\n",
       "      <td>104.247387</td>\n",
       "    </tr>\n",
       "    <tr>\n",
       "      <th>387</th>\n",
       "      <td>2017-03-31</td>\n",
       "      <td>103.189469</td>\n",
       "      <td>103.188622</td>\n",
       "      <td>103.189566</td>\n",
       "      <td>87.812686</td>\n",
       "      <td>93.991425</td>\n",
       "      <td>0.0</td>\n",
       "      <td>0.0</td>\n",
       "      <td>0.0</td>\n",
       "      <td>-0.119024</td>\n",
       "      <td>-0.119024</td>\n",
       "      <td>-0.119024</td>\n",
       "      <td>-0.119024</td>\n",
       "      <td>-0.119024</td>\n",
       "      <td>-0.119024</td>\n",
       "      <td>90.907488</td>\n",
       "    </tr>\n",
       "    <tr>\n",
       "      <th>388</th>\n",
       "      <td>2017-04-30</td>\n",
       "      <td>103.206803</td>\n",
       "      <td>103.204250</td>\n",
       "      <td>103.208911</td>\n",
       "      <td>87.626642</td>\n",
       "      <td>94.142624</td>\n",
       "      <td>0.0</td>\n",
       "      <td>0.0</td>\n",
       "      <td>0.0</td>\n",
       "      <td>-0.119745</td>\n",
       "      <td>-0.119745</td>\n",
       "      <td>-0.119745</td>\n",
       "      <td>-0.119745</td>\n",
       "      <td>-0.119745</td>\n",
       "      <td>-0.119745</td>\n",
       "      <td>90.848305</td>\n",
       "    </tr>\n",
       "    <tr>\n",
       "      <th>389</th>\n",
       "      <td>2017-05-31</td>\n",
       "      <td>103.224715</td>\n",
       "      <td>103.218911</td>\n",
       "      <td>103.230820</td>\n",
       "      <td>97.505676</td>\n",
       "      <td>103.796293</td>\n",
       "      <td>0.0</td>\n",
       "      <td>0.0</td>\n",
       "      <td>0.0</td>\n",
       "      <td>-0.025032</td>\n",
       "      <td>-0.025032</td>\n",
       "      <td>-0.025032</td>\n",
       "      <td>-0.025032</td>\n",
       "      <td>-0.025032</td>\n",
       "      <td>-0.025032</td>\n",
       "      <td>100.640759</td>\n",
       "    </tr>\n",
       "    <tr>\n",
       "      <th>390</th>\n",
       "      <td>2017-06-30</td>\n",
       "      <td>103.242048</td>\n",
       "      <td>103.232206</td>\n",
       "      <td>103.253246</td>\n",
       "      <td>107.619319</td>\n",
       "      <td>113.957116</td>\n",
       "      <td>0.0</td>\n",
       "      <td>0.0</td>\n",
       "      <td>0.0</td>\n",
       "      <td>0.073120</td>\n",
       "      <td>0.073120</td>\n",
       "      <td>0.073120</td>\n",
       "      <td>0.073120</td>\n",
       "      <td>0.073120</td>\n",
       "      <td>0.073120</td>\n",
       "      <td>110.791127</td>\n",
       "    </tr>\n",
       "    <tr>\n",
       "      <th>391</th>\n",
       "      <td>2017-07-31</td>\n",
       "      <td>103.259960</td>\n",
       "      <td>103.245629</td>\n",
       "      <td>103.275866</td>\n",
       "      <td>109.307081</td>\n",
       "      <td>115.365707</td>\n",
       "      <td>0.0</td>\n",
       "      <td>0.0</td>\n",
       "      <td>0.0</td>\n",
       "      <td>0.089309</td>\n",
       "      <td>0.089309</td>\n",
       "      <td>0.089309</td>\n",
       "      <td>0.089309</td>\n",
       "      <td>0.089309</td>\n",
       "      <td>0.089309</td>\n",
       "      <td>112.481961</td>\n",
       "    </tr>\n",
       "    <tr>\n",
       "      <th>392</th>\n",
       "      <td>2017-08-31</td>\n",
       "      <td>103.277872</td>\n",
       "      <td>103.258435</td>\n",
       "      <td>103.298778</td>\n",
       "      <td>97.917915</td>\n",
       "      <td>104.243708</td>\n",
       "      <td>0.0</td>\n",
       "      <td>0.0</td>\n",
       "      <td>0.0</td>\n",
       "      <td>-0.022612</td>\n",
       "      <td>-0.022612</td>\n",
       "      <td>-0.022612</td>\n",
       "      <td>-0.022612</td>\n",
       "      <td>-0.022612</td>\n",
       "      <td>-0.022612</td>\n",
       "      <td>100.942591</td>\n",
       "    </tr>\n",
       "    <tr>\n",
       "      <th>393</th>\n",
       "      <td>2017-09-30</td>\n",
       "      <td>103.295205</td>\n",
       "      <td>103.270013</td>\n",
       "      <td>103.321029</td>\n",
       "      <td>89.699249</td>\n",
       "      <td>96.131023</td>\n",
       "      <td>0.0</td>\n",
       "      <td>0.0</td>\n",
       "      <td>0.0</td>\n",
       "      <td>-0.101537</td>\n",
       "      <td>-0.101537</td>\n",
       "      <td>-0.101537</td>\n",
       "      <td>-0.101537</td>\n",
       "      <td>-0.101537</td>\n",
       "      <td>-0.101537</td>\n",
       "      <td>92.806948</td>\n",
       "    </tr>\n",
       "    <tr>\n",
       "      <th>394</th>\n",
       "      <td>2017-10-31</td>\n",
       "      <td>103.313117</td>\n",
       "      <td>103.278490</td>\n",
       "      <td>103.344860</td>\n",
       "      <td>92.631321</td>\n",
       "      <td>98.737646</td>\n",
       "      <td>0.0</td>\n",
       "      <td>0.0</td>\n",
       "      <td>0.0</td>\n",
       "      <td>-0.074854</td>\n",
       "      <td>-0.074854</td>\n",
       "      <td>-0.074854</td>\n",
       "      <td>-0.074854</td>\n",
       "      <td>-0.074854</td>\n",
       "      <td>-0.074854</td>\n",
       "      <td>95.579764</td>\n",
       "    </tr>\n",
       "    <tr>\n",
       "      <th>395</th>\n",
       "      <td>2017-11-30</td>\n",
       "      <td>103.330451</td>\n",
       "      <td>103.291223</td>\n",
       "      <td>103.368905</td>\n",
       "      <td>104.191913</td>\n",
       "      <td>110.398256</td>\n",
       "      <td>0.0</td>\n",
       "      <td>0.0</td>\n",
       "      <td>0.0</td>\n",
       "      <td>0.038119</td>\n",
       "      <td>0.038119</td>\n",
       "      <td>0.038119</td>\n",
       "      <td>0.038119</td>\n",
       "      <td>0.038119</td>\n",
       "      <td>0.038119</td>\n",
       "      <td>107.269260</td>\n",
       "    </tr>\n",
       "    <tr>\n",
       "      <th>396</th>\n",
       "      <td>2017-12-31</td>\n",
       "      <td>103.348362</td>\n",
       "      <td>103.298975</td>\n",
       "      <td>103.393980</td>\n",
       "      <td>115.853962</td>\n",
       "      <td>122.234985</td>\n",
       "      <td>0.0</td>\n",
       "      <td>0.0</td>\n",
       "      <td>0.0</td>\n",
       "      <td>0.151462</td>\n",
       "      <td>0.151462</td>\n",
       "      <td>0.151462</td>\n",
       "      <td>0.151462</td>\n",
       "      <td>0.151462</td>\n",
       "      <td>0.151462</td>\n",
       "      <td>119.001745</td>\n",
       "    </tr>\n",
       "    <tr>\n",
       "      <th>397</th>\n",
       "      <td>2018-01-31</td>\n",
       "      <td>103.366274</td>\n",
       "      <td>103.308890</td>\n",
       "      <td>103.420117</td>\n",
       "      <td>108.501829</td>\n",
       "      <td>114.967836</td>\n",
       "      <td>0.0</td>\n",
       "      <td>0.0</td>\n",
       "      <td>0.0</td>\n",
       "      <td>0.080908</td>\n",
       "      <td>0.080908</td>\n",
       "      <td>0.080908</td>\n",
       "      <td>0.080908</td>\n",
       "      <td>0.080908</td>\n",
       "      <td>0.080908</td>\n",
       "      <td>111.729431</td>\n",
       "    </tr>\n",
       "    <tr>\n",
       "      <th>398</th>\n",
       "      <td>2018-02-28</td>\n",
       "      <td>103.382452</td>\n",
       "      <td>103.319979</td>\n",
       "      <td>103.445819</td>\n",
       "      <td>101.711487</td>\n",
       "      <td>108.191984</td>\n",
       "      <td>0.0</td>\n",
       "      <td>0.0</td>\n",
       "      <td>0.0</td>\n",
       "      <td>0.015547</td>\n",
       "      <td>0.015547</td>\n",
       "      <td>0.015547</td>\n",
       "      <td>0.015547</td>\n",
       "      <td>0.015547</td>\n",
       "      <td>0.015547</td>\n",
       "      <td>104.989713</td>\n",
       "    </tr>\n",
       "    <tr>\n",
       "      <th>399</th>\n",
       "      <td>2018-03-31</td>\n",
       "      <td>103.400364</td>\n",
       "      <td>103.327690</td>\n",
       "      <td>103.473078</td>\n",
       "      <td>87.732899</td>\n",
       "      <td>94.126155</td>\n",
       "      <td>0.0</td>\n",
       "      <td>0.0</td>\n",
       "      <td>0.0</td>\n",
       "      <td>-0.122263</td>\n",
       "      <td>-0.122263</td>\n",
       "      <td>-0.122263</td>\n",
       "      <td>-0.122263</td>\n",
       "      <td>-0.122263</td>\n",
       "      <td>-0.122263</td>\n",
       "      <td>90.758282</td>\n",
       "    </tr>\n",
       "    <tr>\n",
       "      <th>400</th>\n",
       "      <td>2018-04-30</td>\n",
       "      <td>103.417698</td>\n",
       "      <td>103.335704</td>\n",
       "      <td>103.501860</td>\n",
       "      <td>87.542660</td>\n",
       "      <td>93.624295</td>\n",
       "      <td>0.0</td>\n",
       "      <td>0.0</td>\n",
       "      <td>0.0</td>\n",
       "      <td>-0.123752</td>\n",
       "      <td>-0.123752</td>\n",
       "      <td>-0.123752</td>\n",
       "      <td>-0.123752</td>\n",
       "      <td>-0.123752</td>\n",
       "      <td>-0.123752</td>\n",
       "      <td>90.619515</td>\n",
       "    </tr>\n",
       "    <tr>\n",
       "      <th>401</th>\n",
       "      <td>2018-05-31</td>\n",
       "      <td>103.435609</td>\n",
       "      <td>103.343556</td>\n",
       "      <td>103.528180</td>\n",
       "      <td>97.219679</td>\n",
       "      <td>103.513594</td>\n",
       "      <td>0.0</td>\n",
       "      <td>0.0</td>\n",
       "      <td>0.0</td>\n",
       "      <td>-0.027907</td>\n",
       "      <td>-0.027907</td>\n",
       "      <td>-0.027907</td>\n",
       "      <td>-0.027907</td>\n",
       "      <td>-0.027907</td>\n",
       "      <td>-0.027907</td>\n",
       "      <td>100.549073</td>\n",
       "    </tr>\n",
       "    <tr>\n",
       "      <th>402</th>\n",
       "      <td>2018-06-30</td>\n",
       "      <td>103.452943</td>\n",
       "      <td>103.350415</td>\n",
       "      <td>103.556582</td>\n",
       "      <td>107.966256</td>\n",
       "      <td>114.143350</td>\n",
       "      <td>0.0</td>\n",
       "      <td>0.0</td>\n",
       "      <td>0.0</td>\n",
       "      <td>0.074220</td>\n",
       "      <td>0.074220</td>\n",
       "      <td>0.074220</td>\n",
       "      <td>0.074220</td>\n",
       "      <td>0.074220</td>\n",
       "      <td>0.074220</td>\n",
       "      <td>111.131210</td>\n",
       "    </tr>\n",
       "    <tr>\n",
       "      <th>403</th>\n",
       "      <td>2018-07-31</td>\n",
       "      <td>103.470855</td>\n",
       "      <td>103.358113</td>\n",
       "      <td>103.585375</td>\n",
       "      <td>110.132699</td>\n",
       "      <td>116.402853</td>\n",
       "      <td>0.0</td>\n",
       "      <td>0.0</td>\n",
       "      <td>0.0</td>\n",
       "      <td>0.094067</td>\n",
       "      <td>0.094067</td>\n",
       "      <td>0.094067</td>\n",
       "      <td>0.094067</td>\n",
       "      <td>0.094067</td>\n",
       "      <td>0.094067</td>\n",
       "      <td>113.204039</td>\n",
       "    </tr>\n",
       "    <tr>\n",
       "      <th>404</th>\n",
       "      <td>2018-08-31</td>\n",
       "      <td>103.488766</td>\n",
       "      <td>103.365431</td>\n",
       "      <td>103.613968</td>\n",
       "      <td>98.179982</td>\n",
       "      <td>104.407224</td>\n",
       "      <td>0.0</td>\n",
       "      <td>0.0</td>\n",
       "      <td>0.0</td>\n",
       "      <td>-0.021074</td>\n",
       "      <td>-0.021074</td>\n",
       "      <td>-0.021074</td>\n",
       "      <td>-0.021074</td>\n",
       "      <td>-0.021074</td>\n",
       "      <td>-0.021074</td>\n",
       "      <td>101.307877</td>\n",
       "    </tr>\n",
       "    <tr>\n",
       "      <th>405</th>\n",
       "      <td>2018-09-30</td>\n",
       "      <td>103.506100</td>\n",
       "      <td>103.376672</td>\n",
       "      <td>103.640891</td>\n",
       "      <td>89.492942</td>\n",
       "      <td>95.969201</td>\n",
       "      <td>0.0</td>\n",
       "      <td>0.0</td>\n",
       "      <td>0.0</td>\n",
       "      <td>-0.101368</td>\n",
       "      <td>-0.101368</td>\n",
       "      <td>-0.101368</td>\n",
       "      <td>-0.101368</td>\n",
       "      <td>-0.101368</td>\n",
       "      <td>-0.101368</td>\n",
       "      <td>93.013914</td>\n",
       "    </tr>\n",
       "    <tr>\n",
       "      <th>406</th>\n",
       "      <td>2018-10-31</td>\n",
       "      <td>103.524011</td>\n",
       "      <td>103.382901</td>\n",
       "      <td>103.668435</td>\n",
       "      <td>92.658733</td>\n",
       "      <td>98.915477</td>\n",
       "      <td>0.0</td>\n",
       "      <td>0.0</td>\n",
       "      <td>0.0</td>\n",
       "      <td>-0.075843</td>\n",
       "      <td>-0.075843</td>\n",
       "      <td>-0.075843</td>\n",
       "      <td>-0.075843</td>\n",
       "      <td>-0.075843</td>\n",
       "      <td>-0.075843</td>\n",
       "      <td>95.672425</td>\n",
       "    </tr>\n",
       "  </tbody>\n",
       "</table>\n",
       "</div>"
      ],
      "text/plain": [
       "            ds       trend  trend_lower  trend_upper  yhat_lower  yhat_upper  \\\n",
       "377 2016-06-01  103.014398   103.014398   103.014398   99.061904  105.294632   \n",
       "378 2016-07-01  103.031732   103.031732   103.031732  106.889213  113.339621   \n",
       "379 2016-08-01  103.049643   103.049643   103.049643  106.652099  112.830754   \n",
       "380 2016-09-01  103.067555   103.067555   103.067555   96.667761  102.867547   \n",
       "381 2016-10-01  103.084889   103.084889   103.084889   89.360802   95.246500   \n",
       "382 2016-11-01  103.102800   103.102800   103.102800   92.690849   98.831475   \n",
       "383 2016-12-01  103.120134   103.120134   103.120134  108.475467  114.716931   \n",
       "384 2016-12-31  103.137468   103.137468   103.137468  115.569313  121.741147   \n",
       "385 2017-01-31  103.155379   103.155379   103.155379  107.921987  114.187105   \n",
       "386 2017-02-28  103.171558   103.171558   103.171558  101.063415  107.393740   \n",
       "387 2017-03-31  103.189469   103.188622   103.189566   87.812686   93.991425   \n",
       "388 2017-04-30  103.206803   103.204250   103.208911   87.626642   94.142624   \n",
       "389 2017-05-31  103.224715   103.218911   103.230820   97.505676  103.796293   \n",
       "390 2017-06-30  103.242048   103.232206   103.253246  107.619319  113.957116   \n",
       "391 2017-07-31  103.259960   103.245629   103.275866  109.307081  115.365707   \n",
       "392 2017-08-31  103.277872   103.258435   103.298778   97.917915  104.243708   \n",
       "393 2017-09-30  103.295205   103.270013   103.321029   89.699249   96.131023   \n",
       "394 2017-10-31  103.313117   103.278490   103.344860   92.631321   98.737646   \n",
       "395 2017-11-30  103.330451   103.291223   103.368905  104.191913  110.398256   \n",
       "396 2017-12-31  103.348362   103.298975   103.393980  115.853962  122.234985   \n",
       "397 2018-01-31  103.366274   103.308890   103.420117  108.501829  114.967836   \n",
       "398 2018-02-28  103.382452   103.319979   103.445819  101.711487  108.191984   \n",
       "399 2018-03-31  103.400364   103.327690   103.473078   87.732899   94.126155   \n",
       "400 2018-04-30  103.417698   103.335704   103.501860   87.542660   93.624295   \n",
       "401 2018-05-31  103.435609   103.343556   103.528180   97.219679  103.513594   \n",
       "402 2018-06-30  103.452943   103.350415   103.556582  107.966256  114.143350   \n",
       "403 2018-07-31  103.470855   103.358113   103.585375  110.132699  116.402853   \n",
       "404 2018-08-31  103.488766   103.365431   103.613968   98.179982  104.407224   \n",
       "405 2018-09-30  103.506100   103.376672   103.640891   89.492942   95.969201   \n",
       "406 2018-10-31  103.524011   103.382901   103.668435   92.658733   98.915477   \n",
       "\n",
       "     additive_terms  additive_terms_lower  additive_terms_upper  \\\n",
       "377             0.0                   0.0                   0.0   \n",
       "378             0.0                   0.0                   0.0   \n",
       "379             0.0                   0.0                   0.0   \n",
       "380             0.0                   0.0                   0.0   \n",
       "381             0.0                   0.0                   0.0   \n",
       "382             0.0                   0.0                   0.0   \n",
       "383             0.0                   0.0                   0.0   \n",
       "384             0.0                   0.0                   0.0   \n",
       "385             0.0                   0.0                   0.0   \n",
       "386             0.0                   0.0                   0.0   \n",
       "387             0.0                   0.0                   0.0   \n",
       "388             0.0                   0.0                   0.0   \n",
       "389             0.0                   0.0                   0.0   \n",
       "390             0.0                   0.0                   0.0   \n",
       "391             0.0                   0.0                   0.0   \n",
       "392             0.0                   0.0                   0.0   \n",
       "393             0.0                   0.0                   0.0   \n",
       "394             0.0                   0.0                   0.0   \n",
       "395             0.0                   0.0                   0.0   \n",
       "396             0.0                   0.0                   0.0   \n",
       "397             0.0                   0.0                   0.0   \n",
       "398             0.0                   0.0                   0.0   \n",
       "399             0.0                   0.0                   0.0   \n",
       "400             0.0                   0.0                   0.0   \n",
       "401             0.0                   0.0                   0.0   \n",
       "402             0.0                   0.0                   0.0   \n",
       "403             0.0                   0.0                   0.0   \n",
       "404             0.0                   0.0                   0.0   \n",
       "405             0.0                   0.0                   0.0   \n",
       "406             0.0                   0.0                   0.0   \n",
       "\n",
       "     multiplicative_terms  multiplicative_terms_lower  \\\n",
       "377             -0.009100                   -0.009100   \n",
       "378              0.069346                    0.069346   \n",
       "379              0.065477                    0.065477   \n",
       "380             -0.031381                   -0.031381   \n",
       "381             -0.103356                   -0.103356   \n",
       "382             -0.071402                   -0.071402   \n",
       "383              0.081124                    0.081124   \n",
       "384              0.150014                    0.150014   \n",
       "385              0.076499                    0.076499   \n",
       "386              0.010428                    0.010428   \n",
       "387             -0.119024                   -0.119024   \n",
       "388             -0.119745                   -0.119745   \n",
       "389             -0.025032                   -0.025032   \n",
       "390              0.073120                    0.073120   \n",
       "391              0.089309                    0.089309   \n",
       "392             -0.022612                   -0.022612   \n",
       "393             -0.101537                   -0.101537   \n",
       "394             -0.074854                   -0.074854   \n",
       "395              0.038119                    0.038119   \n",
       "396              0.151462                    0.151462   \n",
       "397              0.080908                    0.080908   \n",
       "398              0.015547                    0.015547   \n",
       "399             -0.122263                   -0.122263   \n",
       "400             -0.123752                   -0.123752   \n",
       "401             -0.027907                   -0.027907   \n",
       "402              0.074220                    0.074220   \n",
       "403              0.094067                    0.094067   \n",
       "404             -0.021074                   -0.021074   \n",
       "405             -0.101368                   -0.101368   \n",
       "406             -0.075843                   -0.075843   \n",
       "\n",
       "     multiplicative_terms_upper    yearly  yearly_lower  yearly_upper  \\\n",
       "377                   -0.009100 -0.009100     -0.009100     -0.009100   \n",
       "378                    0.069346  0.069346      0.069346      0.069346   \n",
       "379                    0.065477  0.065477      0.065477      0.065477   \n",
       "380                   -0.031381 -0.031381     -0.031381     -0.031381   \n",
       "381                   -0.103356 -0.103356     -0.103356     -0.103356   \n",
       "382                   -0.071402 -0.071402     -0.071402     -0.071402   \n",
       "383                    0.081124  0.081124      0.081124      0.081124   \n",
       "384                    0.150014  0.150014      0.150014      0.150014   \n",
       "385                    0.076499  0.076499      0.076499      0.076499   \n",
       "386                    0.010428  0.010428      0.010428      0.010428   \n",
       "387                   -0.119024 -0.119024     -0.119024     -0.119024   \n",
       "388                   -0.119745 -0.119745     -0.119745     -0.119745   \n",
       "389                   -0.025032 -0.025032     -0.025032     -0.025032   \n",
       "390                    0.073120  0.073120      0.073120      0.073120   \n",
       "391                    0.089309  0.089309      0.089309      0.089309   \n",
       "392                   -0.022612 -0.022612     -0.022612     -0.022612   \n",
       "393                   -0.101537 -0.101537     -0.101537     -0.101537   \n",
       "394                   -0.074854 -0.074854     -0.074854     -0.074854   \n",
       "395                    0.038119  0.038119      0.038119      0.038119   \n",
       "396                    0.151462  0.151462      0.151462      0.151462   \n",
       "397                    0.080908  0.080908      0.080908      0.080908   \n",
       "398                    0.015547  0.015547      0.015547      0.015547   \n",
       "399                   -0.122263 -0.122263     -0.122263     -0.122263   \n",
       "400                   -0.123752 -0.123752     -0.123752     -0.123752   \n",
       "401                   -0.027907 -0.027907     -0.027907     -0.027907   \n",
       "402                    0.074220  0.074220      0.074220      0.074220   \n",
       "403                    0.094067  0.094067      0.094067      0.094067   \n",
       "404                   -0.021074 -0.021074     -0.021074     -0.021074   \n",
       "405                   -0.101368 -0.101368     -0.101368     -0.101368   \n",
       "406                   -0.075843 -0.075843     -0.075843     -0.075843   \n",
       "\n",
       "           yhat  \n",
       "377  102.076937  \n",
       "378  110.176610  \n",
       "379  109.797004  \n",
       "380   99.833173  \n",
       "381   92.430476  \n",
       "382   95.741023  \n",
       "383  111.485689  \n",
       "384  118.609518  \n",
       "385  111.046624  \n",
       "386  104.247387  \n",
       "387   90.907488  \n",
       "388   90.848305  \n",
       "389  100.640759  \n",
       "390  110.791127  \n",
       "391  112.481961  \n",
       "392  100.942591  \n",
       "393   92.806948  \n",
       "394   95.579764  \n",
       "395  107.269260  \n",
       "396  119.001745  \n",
       "397  111.729431  \n",
       "398  104.989713  \n",
       "399   90.758282  \n",
       "400   90.619515  \n",
       "401  100.549073  \n",
       "402  111.131210  \n",
       "403  113.204039  \n",
       "404  101.307877  \n",
       "405   93.013914  \n",
       "406   95.672425  "
      ]
     },
     "execution_count": 54,
     "metadata": {},
     "output_type": "execute_result"
    }
   ],
   "source": [
    "prophet_forecast_df.tail(30)"
   ]
  },
  {
   "cell_type": "code",
   "execution_count": 55,
   "metadata": {},
   "outputs": [],
   "source": [
    "# Ok let's see how this compares to the actual values...\n",
    "prophet_forecast_compare_df = prophet_forecast_df.loc[(prophet_forecast_df['ds'] >= '2016-12-31')]"
   ]
  },
  {
   "cell_type": "code",
   "execution_count": 56,
   "metadata": {},
   "outputs": [
    {
     "data": {
      "text/html": [
       "<div>\n",
       "<style scoped>\n",
       "    .dataframe tbody tr th:only-of-type {\n",
       "        vertical-align: middle;\n",
       "    }\n",
       "\n",
       "    .dataframe tbody tr th {\n",
       "        vertical-align: top;\n",
       "    }\n",
       "\n",
       "    .dataframe thead th {\n",
       "        text-align: right;\n",
       "    }\n",
       "</style>\n",
       "<table border=\"1\" class=\"dataframe\">\n",
       "  <thead>\n",
       "    <tr style=\"text-align: right;\">\n",
       "      <th></th>\n",
       "      <th>ds</th>\n",
       "      <th>trend</th>\n",
       "      <th>trend_lower</th>\n",
       "      <th>trend_upper</th>\n",
       "      <th>yhat_lower</th>\n",
       "      <th>yhat_upper</th>\n",
       "      <th>additive_terms</th>\n",
       "      <th>additive_terms_lower</th>\n",
       "      <th>additive_terms_upper</th>\n",
       "      <th>multiplicative_terms</th>\n",
       "      <th>multiplicative_terms_lower</th>\n",
       "      <th>multiplicative_terms_upper</th>\n",
       "      <th>yearly</th>\n",
       "      <th>yearly_lower</th>\n",
       "      <th>yearly_upper</th>\n",
       "      <th>yhat</th>\n",
       "    </tr>\n",
       "  </thead>\n",
       "  <tbody>\n",
       "    <tr>\n",
       "      <th>384</th>\n",
       "      <td>2016-12-31</td>\n",
       "      <td>103.137468</td>\n",
       "      <td>103.137468</td>\n",
       "      <td>103.137468</td>\n",
       "      <td>115.569313</td>\n",
       "      <td>121.741147</td>\n",
       "      <td>0.0</td>\n",
       "      <td>0.0</td>\n",
       "      <td>0.0</td>\n",
       "      <td>0.150014</td>\n",
       "      <td>0.150014</td>\n",
       "      <td>0.150014</td>\n",
       "      <td>0.150014</td>\n",
       "      <td>0.150014</td>\n",
       "      <td>0.150014</td>\n",
       "      <td>118.609518</td>\n",
       "    </tr>\n",
       "    <tr>\n",
       "      <th>385</th>\n",
       "      <td>2017-01-31</td>\n",
       "      <td>103.155379</td>\n",
       "      <td>103.155379</td>\n",
       "      <td>103.155379</td>\n",
       "      <td>107.921987</td>\n",
       "      <td>114.187105</td>\n",
       "      <td>0.0</td>\n",
       "      <td>0.0</td>\n",
       "      <td>0.0</td>\n",
       "      <td>0.076499</td>\n",
       "      <td>0.076499</td>\n",
       "      <td>0.076499</td>\n",
       "      <td>0.076499</td>\n",
       "      <td>0.076499</td>\n",
       "      <td>0.076499</td>\n",
       "      <td>111.046624</td>\n",
       "    </tr>\n",
       "    <tr>\n",
       "      <th>386</th>\n",
       "      <td>2017-02-28</td>\n",
       "      <td>103.171558</td>\n",
       "      <td>103.171558</td>\n",
       "      <td>103.171558</td>\n",
       "      <td>101.063415</td>\n",
       "      <td>107.393740</td>\n",
       "      <td>0.0</td>\n",
       "      <td>0.0</td>\n",
       "      <td>0.0</td>\n",
       "      <td>0.010428</td>\n",
       "      <td>0.010428</td>\n",
       "      <td>0.010428</td>\n",
       "      <td>0.010428</td>\n",
       "      <td>0.010428</td>\n",
       "      <td>0.010428</td>\n",
       "      <td>104.247387</td>\n",
       "    </tr>\n",
       "    <tr>\n",
       "      <th>387</th>\n",
       "      <td>2017-03-31</td>\n",
       "      <td>103.189469</td>\n",
       "      <td>103.188622</td>\n",
       "      <td>103.189566</td>\n",
       "      <td>87.812686</td>\n",
       "      <td>93.991425</td>\n",
       "      <td>0.0</td>\n",
       "      <td>0.0</td>\n",
       "      <td>0.0</td>\n",
       "      <td>-0.119024</td>\n",
       "      <td>-0.119024</td>\n",
       "      <td>-0.119024</td>\n",
       "      <td>-0.119024</td>\n",
       "      <td>-0.119024</td>\n",
       "      <td>-0.119024</td>\n",
       "      <td>90.907488</td>\n",
       "    </tr>\n",
       "    <tr>\n",
       "      <th>388</th>\n",
       "      <td>2017-04-30</td>\n",
       "      <td>103.206803</td>\n",
       "      <td>103.204250</td>\n",
       "      <td>103.208911</td>\n",
       "      <td>87.626642</td>\n",
       "      <td>94.142624</td>\n",
       "      <td>0.0</td>\n",
       "      <td>0.0</td>\n",
       "      <td>0.0</td>\n",
       "      <td>-0.119745</td>\n",
       "      <td>-0.119745</td>\n",
       "      <td>-0.119745</td>\n",
       "      <td>-0.119745</td>\n",
       "      <td>-0.119745</td>\n",
       "      <td>-0.119745</td>\n",
       "      <td>90.848305</td>\n",
       "    </tr>\n",
       "  </tbody>\n",
       "</table>\n",
       "</div>"
      ],
      "text/plain": [
       "            ds       trend  trend_lower  trend_upper  yhat_lower  yhat_upper  \\\n",
       "384 2016-12-31  103.137468   103.137468   103.137468  115.569313  121.741147   \n",
       "385 2017-01-31  103.155379   103.155379   103.155379  107.921987  114.187105   \n",
       "386 2017-02-28  103.171558   103.171558   103.171558  101.063415  107.393740   \n",
       "387 2017-03-31  103.189469   103.188622   103.189566   87.812686   93.991425   \n",
       "388 2017-04-30  103.206803   103.204250   103.208911   87.626642   94.142624   \n",
       "\n",
       "     additive_terms  additive_terms_lower  additive_terms_upper  \\\n",
       "384             0.0                   0.0                   0.0   \n",
       "385             0.0                   0.0                   0.0   \n",
       "386             0.0                   0.0                   0.0   \n",
       "387             0.0                   0.0                   0.0   \n",
       "388             0.0                   0.0                   0.0   \n",
       "\n",
       "     multiplicative_terms  multiplicative_terms_lower  \\\n",
       "384              0.150014                    0.150014   \n",
       "385              0.076499                    0.076499   \n",
       "386              0.010428                    0.010428   \n",
       "387             -0.119024                   -0.119024   \n",
       "388             -0.119745                   -0.119745   \n",
       "\n",
       "     multiplicative_terms_upper    yearly  yearly_lower  yearly_upper  \\\n",
       "384                    0.150014  0.150014      0.150014      0.150014   \n",
       "385                    0.076499  0.076499      0.076499      0.076499   \n",
       "386                    0.010428  0.010428      0.010428      0.010428   \n",
       "387                   -0.119024 -0.119024     -0.119024     -0.119024   \n",
       "388                   -0.119745 -0.119745     -0.119745     -0.119745   \n",
       "\n",
       "           yhat  \n",
       "384  118.609518  \n",
       "385  111.046624  \n",
       "386  104.247387  \n",
       "387   90.907488  \n",
       "388   90.848305  "
      ]
     },
     "execution_count": 56,
     "metadata": {},
     "output_type": "execute_result"
    }
   ],
   "source": [
    "prophet_forecast_compare_df.head()"
   ]
  },
  {
   "cell_type": "code",
   "execution_count": 57,
   "metadata": {},
   "outputs": [
    {
     "data": {
      "text/plain": [
       "Timestamp('2017-01-01 00:00:00')"
      ]
     },
     "execution_count": 57,
     "metadata": {},
     "output_type": "execute_result"
    }
   ],
   "source": [
    "# That's annoying...the months end at a different day.\n",
    "prophet_test_df['ds'].iloc[0]"
   ]
  },
  {
   "cell_type": "code",
   "execution_count": 58,
   "metadata": {},
   "outputs": [],
   "source": [
    "prophet_test_df['ds'] = prophet_test_df['ds'] - pd.tseries.offsets.MonthEnd()"
   ]
  },
  {
   "cell_type": "code",
   "execution_count": 59,
   "metadata": {},
   "outputs": [
    {
     "data": {
      "text/html": [
       "<div>\n",
       "<style scoped>\n",
       "    .dataframe tbody tr th:only-of-type {\n",
       "        vertical-align: middle;\n",
       "    }\n",
       "\n",
       "    .dataframe tbody tr th {\n",
       "        vertical-align: top;\n",
       "    }\n",
       "\n",
       "    .dataframe thead th {\n",
       "        text-align: right;\n",
       "    }\n",
       "</style>\n",
       "<table border=\"1\" class=\"dataframe\">\n",
       "  <thead>\n",
       "    <tr style=\"text-align: right;\">\n",
       "      <th></th>\n",
       "      <th>ds</th>\n",
       "      <th>y</th>\n",
       "    </tr>\n",
       "  </thead>\n",
       "  <tbody>\n",
       "    <tr>\n",
       "      <th>384</th>\n",
       "      <td>2016-12-31</td>\n",
       "      <td>115.1100</td>\n",
       "    </tr>\n",
       "    <tr>\n",
       "      <th>385</th>\n",
       "      <td>2017-01-31</td>\n",
       "      <td>98.7900</td>\n",
       "    </tr>\n",
       "    <tr>\n",
       "      <th>386</th>\n",
       "      <td>2017-02-28</td>\n",
       "      <td>100.3838</td>\n",
       "    </tr>\n",
       "    <tr>\n",
       "      <th>387</th>\n",
       "      <td>2017-03-31</td>\n",
       "      <td>86.5178</td>\n",
       "    </tr>\n",
       "    <tr>\n",
       "      <th>388</th>\n",
       "      <td>2017-04-30</td>\n",
       "      <td>90.2272</td>\n",
       "    </tr>\n",
       "  </tbody>\n",
       "</table>\n",
       "</div>"
      ],
      "text/plain": [
       "            ds         y\n",
       "384 2016-12-31  115.1100\n",
       "385 2017-01-31   98.7900\n",
       "386 2017-02-28  100.3838\n",
       "387 2017-03-31   86.5178\n",
       "388 2017-04-30   90.2272"
      ]
     },
     "execution_count": 59,
     "metadata": {},
     "output_type": "execute_result"
    }
   ],
   "source": [
    "prophet_test_df.head()"
   ]
  },
  {
   "cell_type": "code",
   "execution_count": 60,
   "metadata": {},
   "outputs": [],
   "source": [
    "prophet_test_df['Prediction'] = prophet_forecast_compare_df['yhat']"
   ]
  },
  {
   "cell_type": "code",
   "execution_count": 61,
   "metadata": {},
   "outputs": [
    {
     "data": {
      "text/html": [
       "<div>\n",
       "<style scoped>\n",
       "    .dataframe tbody tr th:only-of-type {\n",
       "        vertical-align: middle;\n",
       "    }\n",
       "\n",
       "    .dataframe tbody tr th {\n",
       "        vertical-align: top;\n",
       "    }\n",
       "\n",
       "    .dataframe thead th {\n",
       "        text-align: right;\n",
       "    }\n",
       "</style>\n",
       "<table border=\"1\" class=\"dataframe\">\n",
       "  <thead>\n",
       "    <tr style=\"text-align: right;\">\n",
       "      <th></th>\n",
       "      <th>ds</th>\n",
       "      <th>y</th>\n",
       "      <th>Prediction</th>\n",
       "    </tr>\n",
       "  </thead>\n",
       "  <tbody>\n",
       "    <tr>\n",
       "      <th>384</th>\n",
       "      <td>2016-12-31</td>\n",
       "      <td>115.1100</td>\n",
       "      <td>118.609518</td>\n",
       "    </tr>\n",
       "    <tr>\n",
       "      <th>385</th>\n",
       "      <td>2017-01-31</td>\n",
       "      <td>98.7900</td>\n",
       "      <td>111.046624</td>\n",
       "    </tr>\n",
       "    <tr>\n",
       "      <th>386</th>\n",
       "      <td>2017-02-28</td>\n",
       "      <td>100.3838</td>\n",
       "      <td>104.247387</td>\n",
       "    </tr>\n",
       "    <tr>\n",
       "      <th>387</th>\n",
       "      <td>2017-03-31</td>\n",
       "      <td>86.5178</td>\n",
       "      <td>90.907488</td>\n",
       "    </tr>\n",
       "    <tr>\n",
       "      <th>388</th>\n",
       "      <td>2017-04-30</td>\n",
       "      <td>90.2272</td>\n",
       "      <td>90.848305</td>\n",
       "    </tr>\n",
       "  </tbody>\n",
       "</table>\n",
       "</div>"
      ],
      "text/plain": [
       "            ds         y  Prediction\n",
       "384 2016-12-31  115.1100  118.609518\n",
       "385 2017-01-31   98.7900  111.046624\n",
       "386 2017-02-28  100.3838  104.247387\n",
       "387 2017-03-31   86.5178   90.907488\n",
       "388 2017-04-30   90.2272   90.848305"
      ]
     },
     "execution_count": 61,
     "metadata": {},
     "output_type": "execute_result"
    }
   ],
   "source": [
    "prophet_test_df.head()"
   ]
  },
  {
   "cell_type": "code",
   "execution_count": 62,
   "metadata": {},
   "outputs": [],
   "source": [
    "r2_prophet = r2_score(y_pred=prophet_test_df['Prediction'], y_true=prophet_test_df['y'])\n",
    "mse_prophet = mean_squared_error(y_pred=prophet_test_df['Prediction'], y_true=prophet_test_df['y'])\n",
    "rmse_prophet = np.sqrt(mse_prophet)"
   ]
  },
  {
   "cell_type": "code",
   "execution_count": 63,
   "metadata": {},
   "outputs": [
    {
     "data": {
      "text/plain": [
       "0.7947484616482199"
      ]
     },
     "execution_count": 63,
     "metadata": {},
     "output_type": "execute_result"
    }
   ],
   "source": [
    "r2_prophet"
   ]
  },
  {
   "cell_type": "code",
   "execution_count": 64,
   "metadata": {},
   "outputs": [
    {
     "data": {
      "text/plain": [
       "19.687556335013788"
      ]
     },
     "execution_count": 64,
     "metadata": {},
     "output_type": "execute_result"
    }
   ],
   "source": [
    "mse_prophet"
   ]
  },
  {
   "cell_type": "code",
   "execution_count": 65,
   "metadata": {},
   "outputs": [
    {
     "data": {
      "text/plain": [
       "4.4370661855570495"
      ]
     },
     "execution_count": 65,
     "metadata": {},
     "output_type": "execute_result"
    }
   ],
   "source": [
    "rmse_prophet"
   ]
  },
  {
   "cell_type": "code",
   "execution_count": 66,
   "metadata": {},
   "outputs": [],
   "source": [
    "prophet_test_df.set_index('ds', inplace=True)"
   ]
  },
  {
   "cell_type": "code",
   "execution_count": 67,
   "metadata": {},
   "outputs": [
    {
     "data": {
      "text/html": [
       "<iframe id=\"igraph\" scrolling=\"no\" style=\"border:none;\" seamless=\"seamless\" src=\"https://plot.ly/~okeeffed090/18.embed\" height=\"525px\" width=\"100%\"></iframe>"
      ],
      "text/plain": [
       "<plotly.tools.PlotlyDisplay object>"
      ]
     },
     "execution_count": 67,
     "metadata": {},
     "output_type": "execute_result"
    }
   ],
   "source": [
    "prophet_test_df.iplot()"
   ]
  },
  {
   "cell_type": "code",
   "execution_count": 69,
   "metadata": {},
   "outputs": [],
   "source": [
    "# Let's visualize the difference in both sets of predictions.\n",
    "prophet_test_df.index.name = 'DATE'"
   ]
  },
  {
   "cell_type": "code",
   "execution_count": 70,
   "metadata": {},
   "outputs": [],
   "source": [
    "prophet_test_df.index = pd.to_datetime(prophet_test_df.index)"
   ]
  },
  {
   "cell_type": "code",
   "execution_count": 72,
   "metadata": {},
   "outputs": [],
   "source": [
    "prophet_test_df.index = prophet_test_df.index + pd.tseries.offsets.DateOffset()"
   ]
  },
  {
   "cell_type": "code",
   "execution_count": 73,
   "metadata": {},
   "outputs": [],
   "source": [
    "prophet_test_df.columns = ['Energy production', 'Prophet_prediction']"
   ]
  },
  {
   "cell_type": "code",
   "execution_count": 74,
   "metadata": {},
   "outputs": [],
   "source": [
    "forecast_df.columns = ['Energy production', 'auto_arima_prediction']"
   ]
  },
  {
   "cell_type": "code",
   "execution_count": 75,
   "metadata": {},
   "outputs": [],
   "source": [
    "compare_prophet_auto_arima_df = pd.concat([forecast_df, prophet_test_df.drop('Energy production', axis=1)], axis=1)"
   ]
  },
  {
   "cell_type": "code",
   "execution_count": 76,
   "metadata": {},
   "outputs": [
    {
     "data": {
      "text/html": [
       "<iframe id=\"igraph\" scrolling=\"no\" style=\"border:none;\" seamless=\"seamless\" src=\"https://plot.ly/~okeeffed090/20.embed\" height=\"525px\" width=\"100%\"></iframe>"
      ],
      "text/plain": [
       "<plotly.tools.PlotlyDisplay object>"
      ]
     },
     "execution_count": 76,
     "metadata": {},
     "output_type": "execute_result"
    }
   ],
   "source": [
    "compare_prophet_auto_arima_df.iplot()"
   ]
  },
  {
   "cell_type": "code",
   "execution_count": null,
   "metadata": {},
   "outputs": [],
   "source": [
    "# The two model look pretty comparable at the surface.  We'll dig into this more later."
   ]
  }
 ],
 "metadata": {
  "kernelspec": {
   "display_name": "Python [conda env:basic_ml]",
   "language": "python",
   "name": "conda-env-basic_ml-py"
  },
  "language_info": {
   "codemirror_mode": {
    "name": "ipython",
    "version": 2
   },
   "file_extension": ".py",
   "mimetype": "text/x-python",
   "name": "python",
   "nbconvert_exporter": "python",
   "pygments_lexer": "ipython2",
   "version": "2.7.14"
  }
 },
 "nbformat": 4,
 "nbformat_minor": 2
}
