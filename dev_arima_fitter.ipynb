{
 "cells": [
  {
   "cell_type": "markdown",
   "metadata": {},
   "source": [
    "## Dev version of integrating arima in stats models with sklearn various types of grid search to optimize arima hyperparameters."
   ]
  },
  {
   "cell_type": "code",
   "execution_count": 1,
   "metadata": {},
   "outputs": [
    {
     "name": "stderr",
     "output_type": "stream",
     "text": [
      "/home/dan/miniconda2/envs/basic_ml/lib/python2.7/site-packages/statsmodels/compat/pandas.py:56: FutureWarning: The pandas.core.datetools module is deprecated and will be removed in a future version. Please use the pandas.tseries module instead.\n",
      "  from pandas.core import datetools\n"
     ]
    }
   ],
   "source": [
    "from __future__ import division\n",
    "\n",
    "import numpy as np\n",
    "import matplotlib.pyplot as plt\n",
    "%matplotlib inline\n",
    "import statsmodels as stm\n",
    "import seaborn as sns\n",
    "import pandas as pd\n",
    "from sklearn.model_selection import GridSearchCV\n",
    "\n",
    "import statsmodels.api as sm\n",
    "from statsmodels.graphics.api import qqplot\n",
    "from statsmodels.tsa.seasonal import seasonal_decompose\n",
    "from statsmodels.tsa.stattools import acf, pacf\n",
    "from statsmodels.tsa.arima_model import ARMA\n",
    "from scipy.optimize import brute"
   ]
  },
  {
   "cell_type": "code",
   "execution_count": 13,
   "metadata": {},
   "outputs": [],
   "source": [
    "from statsmodels.tsa.stattools import adfuller"
   ]
  },
  {
   "cell_type": "code",
   "execution_count": 2,
   "metadata": {},
   "outputs": [],
   "source": [
    "# Get the data for this test.\n",
    "df = pd.read_csv('../../data_sets/air_passengers/AirPassengers.csv')"
   ]
  },
  {
   "cell_type": "code",
   "execution_count": 3,
   "metadata": {},
   "outputs": [
    {
     "data": {
      "text/html": [
       "<div>\n",
       "<style scoped>\n",
       "    .dataframe tbody tr th:only-of-type {\n",
       "        vertical-align: middle;\n",
       "    }\n",
       "\n",
       "    .dataframe tbody tr th {\n",
       "        vertical-align: top;\n",
       "    }\n",
       "\n",
       "    .dataframe thead th {\n",
       "        text-align: right;\n",
       "    }\n",
       "</style>\n",
       "<table border=\"1\" class=\"dataframe\">\n",
       "  <thead>\n",
       "    <tr style=\"text-align: right;\">\n",
       "      <th></th>\n",
       "      <th>Month</th>\n",
       "      <th>#Passengers</th>\n",
       "    </tr>\n",
       "  </thead>\n",
       "  <tbody>\n",
       "    <tr>\n",
       "      <th>0</th>\n",
       "      <td>1949-01</td>\n",
       "      <td>112</td>\n",
       "    </tr>\n",
       "    <tr>\n",
       "      <th>1</th>\n",
       "      <td>1949-02</td>\n",
       "      <td>118</td>\n",
       "    </tr>\n",
       "    <tr>\n",
       "      <th>2</th>\n",
       "      <td>1949-03</td>\n",
       "      <td>132</td>\n",
       "    </tr>\n",
       "    <tr>\n",
       "      <th>3</th>\n",
       "      <td>1949-04</td>\n",
       "      <td>129</td>\n",
       "    </tr>\n",
       "    <tr>\n",
       "      <th>4</th>\n",
       "      <td>1949-05</td>\n",
       "      <td>121</td>\n",
       "    </tr>\n",
       "  </tbody>\n",
       "</table>\n",
       "</div>"
      ],
      "text/plain": [
       "     Month  #Passengers\n",
       "0  1949-01          112\n",
       "1  1949-02          118\n",
       "2  1949-03          132\n",
       "3  1949-04          129\n",
       "4  1949-05          121"
      ]
     },
     "execution_count": 3,
     "metadata": {},
     "output_type": "execute_result"
    }
   ],
   "source": [
    "df.head()"
   ]
  },
  {
   "cell_type": "code",
   "execution_count": 4,
   "metadata": {},
   "outputs": [],
   "source": [
    "df.rename(index=str, columns={'#Passengers': 'passengers', 'Month': 'month'}, inplace=True)"
   ]
  },
  {
   "cell_type": "code",
   "execution_count": 5,
   "metadata": {},
   "outputs": [
    {
     "data": {
      "text/html": [
       "<div>\n",
       "<style scoped>\n",
       "    .dataframe tbody tr th:only-of-type {\n",
       "        vertical-align: middle;\n",
       "    }\n",
       "\n",
       "    .dataframe tbody tr th {\n",
       "        vertical-align: top;\n",
       "    }\n",
       "\n",
       "    .dataframe thead th {\n",
       "        text-align: right;\n",
       "    }\n",
       "</style>\n",
       "<table border=\"1\" class=\"dataframe\">\n",
       "  <thead>\n",
       "    <tr style=\"text-align: right;\">\n",
       "      <th></th>\n",
       "      <th>month</th>\n",
       "      <th>passengers</th>\n",
       "    </tr>\n",
       "  </thead>\n",
       "  <tbody>\n",
       "    <tr>\n",
       "      <th>0</th>\n",
       "      <td>1949-01</td>\n",
       "      <td>112</td>\n",
       "    </tr>\n",
       "    <tr>\n",
       "      <th>1</th>\n",
       "      <td>1949-02</td>\n",
       "      <td>118</td>\n",
       "    </tr>\n",
       "    <tr>\n",
       "      <th>2</th>\n",
       "      <td>1949-03</td>\n",
       "      <td>132</td>\n",
       "    </tr>\n",
       "    <tr>\n",
       "      <th>3</th>\n",
       "      <td>1949-04</td>\n",
       "      <td>129</td>\n",
       "    </tr>\n",
       "    <tr>\n",
       "      <th>4</th>\n",
       "      <td>1949-05</td>\n",
       "      <td>121</td>\n",
       "    </tr>\n",
       "  </tbody>\n",
       "</table>\n",
       "</div>"
      ],
      "text/plain": [
       "     month  passengers\n",
       "0  1949-01         112\n",
       "1  1949-02         118\n",
       "2  1949-03         132\n",
       "3  1949-04         129\n",
       "4  1949-05         121"
      ]
     },
     "execution_count": 5,
     "metadata": {},
     "output_type": "execute_result"
    }
   ],
   "source": [
    "df.head()"
   ]
  },
  {
   "cell_type": "code",
   "execution_count": 6,
   "metadata": {},
   "outputs": [],
   "source": [
    "# reset index.\n",
    "df.index = pd.to_datetime(df['month'])\n",
    "df.drop(['month'], axis=1, inplace=True)"
   ]
  },
  {
   "cell_type": "code",
   "execution_count": 7,
   "metadata": {},
   "outputs": [
    {
     "data": {
      "text/html": [
       "<div>\n",
       "<style scoped>\n",
       "    .dataframe tbody tr th:only-of-type {\n",
       "        vertical-align: middle;\n",
       "    }\n",
       "\n",
       "    .dataframe tbody tr th {\n",
       "        vertical-align: top;\n",
       "    }\n",
       "\n",
       "    .dataframe thead th {\n",
       "        text-align: right;\n",
       "    }\n",
       "</style>\n",
       "<table border=\"1\" class=\"dataframe\">\n",
       "  <thead>\n",
       "    <tr style=\"text-align: right;\">\n",
       "      <th></th>\n",
       "      <th>passengers</th>\n",
       "    </tr>\n",
       "    <tr>\n",
       "      <th>month</th>\n",
       "      <th></th>\n",
       "    </tr>\n",
       "  </thead>\n",
       "  <tbody>\n",
       "    <tr>\n",
       "      <th>1949-01-01</th>\n",
       "      <td>112</td>\n",
       "    </tr>\n",
       "    <tr>\n",
       "      <th>1949-02-01</th>\n",
       "      <td>118</td>\n",
       "    </tr>\n",
       "    <tr>\n",
       "      <th>1949-03-01</th>\n",
       "      <td>132</td>\n",
       "    </tr>\n",
       "    <tr>\n",
       "      <th>1949-04-01</th>\n",
       "      <td>129</td>\n",
       "    </tr>\n",
       "    <tr>\n",
       "      <th>1949-05-01</th>\n",
       "      <td>121</td>\n",
       "    </tr>\n",
       "  </tbody>\n",
       "</table>\n",
       "</div>"
      ],
      "text/plain": [
       "            passengers\n",
       "month                 \n",
       "1949-01-01         112\n",
       "1949-02-01         118\n",
       "1949-03-01         132\n",
       "1949-04-01         129\n",
       "1949-05-01         121"
      ]
     },
     "execution_count": 7,
     "metadata": {},
     "output_type": "execute_result"
    }
   ],
   "source": [
    "df.head()"
   ]
  },
  {
   "cell_type": "code",
   "execution_count": 9,
   "metadata": {},
   "outputs": [],
   "source": [
    "# This will be our test example.  We'll need four functions.  One to resample the data if\n",
    "# necessary.  Another to check for stationarity.  Then another to search the space of \n",
    "# transformations to find the best stationary time series if possible.  We'll need to be\n",
    "# careful about seasonality here...and then one more to find the optimal fit parameters.\n",
    "# We'll probably actually want a fifth function to invert the transformations and then test\n",
    "# the fit quality....\n",
    "\n",
    "# At the end of the day, we'll turn this all into a custom class, but first let's get the \n",
    "# functions working."
   ]
  },
  {
   "cell_type": "markdown",
   "metadata": {},
   "source": [
    "## Look for outliters"
   ]
  },
  {
   "cell_type": "code",
   "execution_count": 10,
   "metadata": {},
   "outputs": [],
   "source": [
    "# A simple outlier detection function.\n",
    "def remove_outliers_simple(df, standard_deviations):\n",
    "    # There should only be one numerical column\n",
    "    col = df.columns.values.tolist()[0]\n",
    "    # calculate the z statistic\n",
    "    z = pd.DataFrame((df[col] - df[col].mean()).div(df[col].std()))\n",
    "    # Identify outliers based on input number of standard_deviations\n",
    "    outliers = z > standard_deviations\n",
    "    # filter\n",
    "    df_out = df[~outliers.any(axis=1)]\n",
    "    \n",
    "    return df_out"
   ]
  },
  {
   "cell_type": "markdown",
   "metadata": {},
   "source": [
    "## Resample function"
   ]
  },
  {
   "cell_type": "code",
   "execution_count": 12,
   "metadata": {},
   "outputs": [],
   "source": [
    "def re_sample_custom(df, unit, method='linear'):\n",
    "    resampled = df.resample(unit)\n",
    "    interpolated = resampled.interpolate(method=method)\n",
    "    \n",
    "    return interpolated"
   ]
  },
  {
   "cell_type": "markdown",
   "metadata": {},
   "source": [
    "## Check for stationarity"
   ]
  },
  {
   "cell_type": "code",
   "execution_count": 15,
   "metadata": {},
   "outputs": [],
   "source": [
    "def test_stationarity(timeseries):\n",
    "    # TODO: add a recommendation to return...\n",
    "    #Determing rolling statistics\n",
    "    rolmean = pd.rolling_mean(timeseries, window=12)\n",
    "    rolstd = pd.rolling_std(timeseries, window=12)\n",
    "\n",
    "    #Plot rolling statistics:\n",
    "    orig = plt.plot(timeseries, color='blue',label='Original')\n",
    "    mean = plt.plot(rolmean, color='red', label='Rolling Mean')\n",
    "    std = plt.plot(rolstd, color='black', label = 'Rolling Std')\n",
    "    plt.legend(loc='best')\n",
    "    plt.title('Rolling Mean & Standard Deviation')\n",
    "    plt.show(block=False)\n",
    "    \n",
    "    #Perform Dickey-Fuller test:\n",
    "    print('Results of Dickey-Fuller Test:')\n",
    "    dftest = adfuller(timeseries, autolag='AIC')\n",
    "    dfoutput = pd.Series(dftest[0:4], index=['Test Statistic','p-value','#Lags Used','Number of Observations Used'])\n",
    "    for key,value in dftest[4].items():\n",
    "        dfoutput['Critical Value (%s)'%key] = value\n",
    "    print(dfoutput)"
   ]
  },
  {
   "cell_type": "markdown",
   "metadata": {},
   "source": [
    "## Search for a stationary series"
   ]
  },
  {
   "cell_type": "code",
   "execution_count": null,
   "metadata": {},
   "outputs": [],
   "source": [
    "# We need a function to try out a few transformations if not stationary...we should merge this\n",
    "# with the above function."
   ]
  },
  {
   "cell_type": "code",
   "execution_count": null,
   "metadata": {},
   "outputs": [],
   "source": []
  },
  {
   "cell_type": "code",
   "execution_count": null,
   "metadata": {},
   "outputs": [],
   "source": []
  },
  {
   "cell_type": "code",
   "execution_count": null,
   "metadata": {},
   "outputs": [],
   "source": [
    "class OutlierRemovalFeatureSelectionRegressor(BaseEstimator, RegressorMixin):\n",
    "    def __init__(self, outlier_detector, regressor, feature_selector, use_feature_selection, \n",
    "                 use_tree_selection=False, select_alg=None, use_outlier_detection=False):\n",
    "        self.outlier_detector = outlier_detector\n",
    "        self.regressor = regressor\n",
    "        self.feature_selector = feature_selector\n",
    "        self.use_tree_selection = use_tree_selection\n",
    "        self.select_alg = select_alg\n",
    "        self.use_outlier_detection = use_outlier_detection\n",
    "        self.use_feature_selection = use_feature_selection\n",
    "\n",
    "    def fit(self, X, y):\n",
    "        if self.use_outlier_detection:\n",
    "            X_resample, y_resample = self.resample(X, y)\n",
    "        else:\n",
    "            X_resample = X.copy()\n",
    "            y_resample = y.copy()\n",
    "        if self.use_feature_selection:\n",
    "            X_resample_features = self.feature_select(X_resample, y_resample)\n",
    "        else:\n",
    "            X_resample_features = X_resample.copy()\n",
    "        # Generate the validation set for early stopping\n",
    "        X_train, X_valid, y_train, y_valid = self.make_validation_set(X_resample_features, y_resample)\n",
    "        # set the early_stopping rounds to be about 10% the number of epochs. Otherwise risk under fitting...\n",
    "        self.regressor_ = clone(self.regressor).fit(X_train, y_train, eval_metric='mae',\n",
    "                                                    eval_set=[[X_valid, y_valid]], early_stopping_rounds=50, verbose=False)\n",
    "        return self\n",
    "\n",
    "    def predict(self, X):\n",
    "        if self.use_feature_selection:\n",
    "            X_red = self.feature_selector.transform(X)\n",
    "        else:\n",
    "            X_red = X.copy()\n",
    "        return self.regressor_.predict(X_red)\n",
    "\n",
    "    def resample(self, X, y):\n",
    "        self.outlier_detector_ = clone(self.outlier_detector)\n",
    "        y_shape = y.reshape((y.shape[0], 1))\n",
    "        X_mat = np.hstack((X, y_shape))\n",
    "        self.outlier_detector = self.outlier_detector_.fit(X_mat)\n",
    "        mask = self.outlier_detector.predict(X_mat) == 1\n",
    "        return X[mask], y[mask]\n",
    "\n",
    "    def feature_select(self, X, y):\n",
    "        # This will run the feature selection component.\n",
    "        if self.use_tree_selection:\n",
    "            # THIS DOESN'T WORK! DON'T USE IT YET!\n",
    "            self.feature_selector_ = clone(self.feature_selector)\n",
    "            # self.select_alg_ = clone(self.select_alg)\n",
    "            self.feature_selector = SelectFromModel(self.feature_selector_.fit(X, y))\n",
    "            # self.feature_selector = self.select_alg(self.feature_selector, prefit=True)\n",
    "            # self.feature_selector = SelectFromModel(self.feature_selector, prefit=True)\n",
    "            feature_selected_X = self.feature_selector.transform(X)\n",
    "        else:\n",
    "            self.feature_selector_ = clone(self.feature_selector)\n",
    "            self.feature_selector = self.feature_selector_.fit(X, y)\n",
    "            feature_selected_X = self.feature_selector.transform(X)\n",
    "        return feature_selected_X\n",
    "\n",
    "    def make_validation_set(self, X, y):\n",
    "        # This will generate the validation set for the xgboost regressor.\n",
    "        X_train, X_valid, y_train, y_valid = train_test_split(X, y, test_size=0.1)\n",
    "        return X_train, X_valid, y_train, y_valid"
   ]
  }
 ],
 "metadata": {
  "kernelspec": {
   "display_name": "Python [conda env:basic_ml]",
   "language": "python",
   "name": "conda-env-basic_ml-py"
  },
  "language_info": {
   "codemirror_mode": {
    "name": "ipython",
    "version": 2
   },
   "file_extension": ".py",
   "mimetype": "text/x-python",
   "name": "python",
   "nbconvert_exporter": "python",
   "pygments_lexer": "ipython2",
   "version": "2.7.14"
  }
 },
 "nbformat": 4,
 "nbformat_minor": 2
}
